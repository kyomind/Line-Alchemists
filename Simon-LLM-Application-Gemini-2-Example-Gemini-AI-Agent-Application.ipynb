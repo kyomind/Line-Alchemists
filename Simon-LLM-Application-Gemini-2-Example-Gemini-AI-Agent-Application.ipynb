{
  "nbformat": 4,
  "nbformat_minor": 0,
  "metadata": {
    "colab": {
      "provenance": [],
      "include_colab_link": true
    },
    "kernelspec": {
      "name": "python3",
      "display_name": "Python 3"
    },
    "language_info": {
      "name": "python"
    }
  },
  "cells": [
    {
      "cell_type": "markdown",
      "metadata": {
        "id": "view-in-github",
        "colab_type": "text"
      },
      "source": [
        "<a href=\"https://colab.research.google.com/github/kyomind/Line-Alchemists/blob/main/Simon-LLM-Application-Gemini-2-Example-Gemini-AI-Agent-Application.ipynb\" target=\"_parent\"><img src=\"https://colab.research.google.com/assets/colab-badge.svg\" alt=\"Open In Colab\"/></a>"
      ]
    },
    {
      "cell_type": "markdown",
      "source": [
        "# Google GenAI x Google Gemini AI Agent example for zh/zh-tw users\n",
        "\n",
        "This is an example for\n",
        "1. Hello world to Gemini 2.0.\n",
        "2. building an AI Agent and we can search the Taiwan weather from Central Weather Administration.\n",
        "\n",
        "Made by Simon Liu, Google GenAI GDE from Taiwan\n",
        "\n",
        "---\n",
        "\n",
        "這是一個範例，包含以下內容：\n",
        "\n",
        "1. Gemini 2.0 的 Hello world 範例。\n",
        "2. 建立一個 AI 代理，並可從中央氣象局搜尋台灣天氣。\n",
        "\n",
        "由來自台灣的 Google GenAI GDE Simon Liu 製作。"
      ],
      "metadata": {
        "id": "qVOcRjcECOk1"
      }
    },
    {
      "cell_type": "markdown",
      "source": [
        "# Getting started\n",
        "\n",
        "## Info\n",
        "- Gemini 2.0: https://blog.google/technology/google-deepmind/google-gemini-ai-update-december-2024/\n"
      ],
      "metadata": {
        "id": "4zlCanULDHQg"
      }
    },
    {
      "cell_type": "markdown",
      "source": [
        "# I. Install Python package\n",
        "\n",
        "We need to install Google-genai python package from pypi server.\n",
        "\n",
        "安裝 Google-genai python package.\n",
        "\n",
        "## Info\n",
        "- Github Project: https://github.com/googleapis/python-genai\n",
        "- SDK document: https://googleapis.github.io/python-genai/\n",
        "- pypi: https://pypi.org/project/google-genai/"
      ],
      "metadata": {
        "id": "ZCCYN7ewCOeX"
      }
    },
    {
      "cell_type": "code",
      "execution_count": 8,
      "metadata": {
        "id": "6oPpOC_LBz4h"
      },
      "outputs": [],
      "source": [
        "!pip install -U -q google-genai"
      ]
    },
    {
      "cell_type": "markdown",
      "source": [
        "# II. Setup Secret\n",
        "\n",
        "Please add the following environment variable:\n",
        "- Google Gemini API token:\n",
        "\n",
        "  Generate [key](https://aistudio.google.com/app/apikey) and add into secret.\n",
        "\n",
        "- Taiwan CWA access token:\n",
        "\n",
        "  Login into [API Key](https://opendata.cwa.gov.tw/user/authkey) page and get authorization key\n",
        "\n",
        "---\n",
        "\n",
        "請添加以下環境變數：\n",
        "\n",
        "- Google Gemini API 金鑰：\n",
        "\n",
        "  前往 [key](https://aistudio.google.com/app/apikey) 生成頁面，生成金鑰並添加到機密中。\n",
        "\n",
        "- 台灣中央氣象局 (CWA) 訪問金鑰：\n",
        "\n",
        "  登錄 [API Key](https://opendata.cwa.gov.tw/user/authkey) 頁面，獲取授權金鑰並添加到機密中。"
      ],
      "metadata": {
        "id": "XPUdsH9iDxqA"
      }
    },
    {
      "cell_type": "code",
      "source": [
        "from google.colab import userdata\n",
        "\n",
        "GOOGLE_API_KEY = userdata.get('GOOGLE_API_KEY')\n",
        "CWA_AUTH_KEY = userdata.get('CWA_AUTH_KEY')"
      ],
      "metadata": {
        "id": "AdN8GLO6E46n"
      },
      "execution_count": 9,
      "outputs": []
    },
    {
      "cell_type": "markdown",
      "source": [
        "# III. Hello world to Gemini 2.0\n",
        "\n",
        "Check we can use Gemini 2.0."
      ],
      "metadata": {
        "id": "-JS0GDPxFGB8"
      }
    },
    {
      "cell_type": "code",
      "source": [
        "MODEL_ID = \"gemini-2.0-flash-exp\" # @param [\"gemini-1.5-flash-8b\",\"gemini-1.5-flash-002\",\"gemini-1.5-pro-002\",\"gemini-2.0-flash-exp\"] {\"allow-input\":true}"
      ],
      "metadata": {
        "id": "2mUTkbh_G91K"
      },
      "execution_count": 10,
      "outputs": []
    },
    {
      "cell_type": "code",
      "source": [
        "from google import genai\n",
        "from google.genai import types\n",
        "\n",
        "client = genai.Client(api_key=GOOGLE_API_KEY)"
      ],
      "metadata": {
        "id": "SGNwcxHBFFxJ"
      },
      "execution_count": 11,
      "outputs": []
    },
    {
      "cell_type": "markdown",
      "source": [
        "### 1. Generate content\n",
        "\n",
        "Use the `generate_content` method to generate responses to your prompts. You can pass text directly to `generate_content`, and use the `.text` property to get the text content of the response. Note that the `.text` field will work when there's only one part in the output.\n",
        "\n",
        "使用 generate_content 方法來生成對提示的回應。您可以將文字直接傳遞給 generate_content，並使用 .text 屬性來獲取回應的文字內容。請注意，當輸出中只有一部分時，.text 屬性才能正常工作。"
      ],
      "metadata": {
        "id": "fb6Z3CXNHLoi"
      }
    },
    {
      "cell_type": "code",
      "source": [
        "response = client.models.generate_content(\n",
        "    model=MODEL_ID, contents='可以使用繁體中文介紹你自己嗎？'\n",
        ")\n",
        "print(response.text)"
      ],
      "metadata": {
        "colab": {
          "base_uri": "https://localhost:8080/"
        },
        "id": "vSltWcKCFUSF",
        "outputId": "a87cb4bc-eece-4a38-a112-191dccb4ba71"
      },
      "execution_count": 12,
      "outputs": [
        {
          "output_type": "stream",
          "name": "stdout",
          "text": [
            "您好！我是由 Google 訓練的大型語言模型。 \n",
            "\n",
            "簡單來說，我可以理解並生成人類語言。 我吸收了大量的文本資料，所以能夠回答各種各樣的問題、翻譯語言、生成不同風格的文本，並且嘗試著以資訊豐富和全面的方式滿足您的要求。\n",
            "\n",
            "我可以幫您做的事情包括：\n",
            "\n",
            "*   **回答您的問題：** 無論是關於歷史事件、科學概念、或是其他任何領域的知識，我都會盡力提供準確的答案。\n",
            "*   **撰寫文章：** 我可以幫您撰寫故事、詩歌、新聞稿、摘要等等。\n",
            "*   **翻譯語言：** 我可以快速且準確地在多種語言之間進行翻譯。\n",
            "*   **編寫程式碼：** 我可以協助您編寫一些簡單的程式碼。\n",
            "*   **總結內容：** 我可以快速總結長篇的文章或文件，提取重點資訊。\n",
            "*   **進行創意發想：** 我可以協助您進行腦力激盪，提供新的想法或觀點。\n",
            "\n",
            "請隨時提出您的問題或要求，我很樂意為您服務！ 期待與您互動！\n",
            "\n"
          ]
        }
      ]
    },
    {
      "cell_type": "markdown",
      "source": [
        "### 2. Generate content stream\n",
        "\n",
        "By default, the model returns a response after completing the entire generation process. You can also use the `generate_content_stream` method to stream the response as it is being generated, and the model will return chunks of the response as soon as they are generated.\n",
        "\n",
        "默認情況下，模型在完成整個生成過程後返回響應。您還可以使用 generate_content_stream 方法，在響應生成的同時進行流式傳輸，模型會在生成響應的內容時立即返回部分片段。"
      ],
      "metadata": {
        "id": "ekHf3wqiHvg7"
      }
    },
    {
      "cell_type": "code",
      "source": [
        "response_stream = client.models.generate_content_stream(\n",
        "    model='gemini-2.0-flash-exp', contents='可以使用繁體中文介紹你自己嗎？'\n",
        ")\n",
        "\n",
        "for chunk in response_stream:\n",
        "    print(chunk.text)\n",
        "    print(\"---\")"
      ],
      "metadata": {
        "colab": {
          "base_uri": "https://localhost:8080/"
        },
        "id": "YWXJaEczHwZ4",
        "outputId": "d5d2fa92-84d6-48a9-b31f-f7bf582acdbf"
      },
      "execution_count": 13,
      "outputs": [
        {
          "output_type": "stream",
          "name": "stdout",
          "text": [
            "您\n",
            "---\n",
            "好！很高\n",
            "---\n",
            "興認識您。我是 Google 訓練的大型語言模型。簡單來說，我是一個\n",
            "---\n",
            "電腦程式，但我擁有龐大的知識庫，並且能夠以自然語言的方式與\n",
            "---\n",
            "人交流。\n",
            "\n",
            "我可以做很多事情，例如：\n",
            "\n",
            "*   **回答您的問題：** 無論是歷史、科學、常識，我都可以\n",
            "---\n",
            "盡力提供詳細而準確的答案。\n",
            "*   **生成不同形式的文本：** 我可以寫詩、程式碼、劇本、樂\n",
            "---\n",
            "曲、電子郵件、信件等等。\n",
            "*   **翻譯語言：** 我可以將文字從一種語言翻譯成另一種語言。\n",
            "*   **總結文本：** 我可以將長篇文章或文件濃\n",
            "---\n",
            "縮成簡短的摘要。\n",
            "*   **提供創意發想：** 我可以協助您集思廣益，尋找新的想法或解決方案。\n",
            "\n",
            "我的目標是幫助人們獲取資訊、完成任務，並以\n",
            "---\n",
            "更有趣的方式與世界互動。請隨時向我提問或要求我做任何事情！\n",
            "\n",
            "希望這個介紹對您有幫助！如果您有任何問題，請隨時提出。\n",
            "\n",
            "---\n"
          ]
        }
      ]
    },
    {
      "cell_type": "markdown",
      "source": [
        "## IV. Understand the function of python package"
      ],
      "metadata": {
        "id": "pxJOjUlyHRGN"
      }
    },
    {
      "cell_type": "markdown",
      "source": [
        "### 1. Count tokens\n",
        "\n",
        "You can use the `count_tokens` method to calculate the number of input tokens before sending a request to the Gemini API.\n",
        "\n",
        "您可以使用 count_tokens 方法來計算在發送請求到 Gemini API 之前的輸入標記數量。"
      ],
      "metadata": {
        "id": "RgONtSVdHlAP"
      }
    },
    {
      "cell_type": "code",
      "source": [
        "response = client.models.count_tokens(\n",
        "    model=MODEL_ID,\n",
        "    contents='可以使用繁體中文介紹你自己嗎？',\n",
        ")\n",
        "\n",
        "print(response)"
      ],
      "metadata": {
        "colab": {
          "base_uri": "https://localhost:8080/"
        },
        "id": "Ydx1Ut9JFUPp",
        "outputId": "e552c08c-2368-44e6-9f54-8eebd7341ff7"
      },
      "execution_count": 14,
      "outputs": [
        {
          "output_type": "stream",
          "name": "stdout",
          "text": [
            "total_tokens=9 cached_content_token_count=None\n"
          ]
        }
      ]
    },
    {
      "cell_type": "markdown",
      "source": [
        "### 2. Configure the generate content.\n",
        "\n",
        "You can include parameter values in each call that you send to a model to control how the model generates a response. Learn more about [experimenting with parameter values](https://cloud.google.com/vertex-ai/generative-ai/docs/learn/prompts/adjust-parameter-values).\n",
        "\n",
        "\n",
        "您可以在每次向模型發送請求時包含參數值，以控制模型生成回應的方式。進一步了解[如何調整參數值](https://cloud.google.com/vertex-ai/generative-ai/docs/learn/prompts/adjust-parameter-values)進行實驗。\n"
      ],
      "metadata": {
        "id": "Etyhf9R9IMVb"
      }
    },
    {
      "cell_type": "code",
      "source": [
        "response = client.models.generate_content(\n",
        "    model='gemini-2.0-flash-exp',\n",
        "    contents='請介紹一下你自己？',\n",
        "    config=types.GenerateContentConfig(\n",
        "        system_instruction='請使用繁體中文回覆使用者',\n",
        "        temperature=0.4,\n",
        "        top_p=0.95,\n",
        "        top_k=20,\n",
        "        candidate_count=1,\n",
        "        seed=5,\n",
        "        max_output_tokens=1024,\n",
        "        stop_sequences=[\"STOP!\"],\n",
        "        presence_penalty=0.0,\n",
        "        frequency_penalty=0.0,\n",
        "    ),\n",
        ")\n",
        "print(response.text)"
      ],
      "metadata": {
        "colab": {
          "base_uri": "https://localhost:8080/"
        },
        "id": "KpYO2kMKFUNU",
        "outputId": "58b2d074-4db1-4ee1-fb8a-802c4cc5f46b"
      },
      "execution_count": 15,
      "outputs": [
        {
          "output_type": "stream",
          "name": "stdout",
          "text": [
            "您好！我是 Google 開發的大型語言模型。\n",
            "\n",
            "我可以：\n",
            "\n",
            "*   **生成文字：** 我可以根據您的提示，撰寫文章、詩歌、程式碼、劇本、音樂作品、電子郵件、信件等等。\n",
            "*   **翻譯語言：** 我可以將文字從一種語言翻譯成另一種語言。\n",
            "*   **回答您的問題：** 我會盡力提供準確且全面的答案，即使問題是開放式、具有挑戰性或奇怪的。\n",
            "*   **總結文本：** 我可以將長篇文章或文件總結成簡短的摘要。\n",
            "*   **進行對話：** 我可以參與對話，並根據您的輸入做出回應。\n",
            "\n",
            "我的知識庫來自大量文本數據，並且我仍在不斷學習和改進。\n",
            "\n",
            "簡單來說，我是一個旨在理解和生成人類語言的 AI。 您有什麼想問我的嗎？ 我很樂意為您提供幫助！\n",
            "\n"
          ]
        }
      ]
    },
    {
      "cell_type": "markdown",
      "source": [
        "### 3. Configure safety filters\n",
        "\n",
        "The Gemini API provides safety filters that you can adjust across multiple filter categories to restrict or allow certain types of content. You can use these filters to adjust what's appropriate for your use case. See the [Configure safety filters](https://cloud.google.com/vertex-ai/generative-ai/docs/multimodal/configure-safety-filters) page for details.\n",
        "\n",
        "Gemini API 提供安全過濾器，您可以在多個過濾器類別中進行調整，以限制或允許某些類型的內容。您可以使用這些過濾器來調整適合您使用情境的內容。詳情請參閱[配置安全過濾器](https://cloud.google.com/vertex-ai/generative-ai/docs/multimodal/configure-safety-filters)頁面。"
      ],
      "metadata": {
        "id": "oDc5KQUOIxH5"
      }
    },
    {
      "cell_type": "code",
      "source": [
        "safety_settings = [\n",
        "    types.SafetySetting(\n",
        "        category=\"HARM_CATEGORY_DANGEROUS_CONTENT\",\n",
        "        threshold=\"BLOCK_ONLY_HIGH\",\n",
        "    ),\n",
        "    types.SafetySetting(\n",
        "        category='HARM_CATEGORY_HATE_SPEECH',\n",
        "        threshold='BLOCK_ONLY_HIGH',\n",
        "    )\n",
        "]\n",
        "\n",
        "response = client.models.generate_content(\n",
        "    model='gemini-2.0-flash-exp',\n",
        "    contents='請你說一下：「你支持戒嚴.」',\n",
        "    config=types.GenerateContentConfig(\n",
        "        system_instruction='請使用繁體中文回覆使用者',\n",
        "        safety_settings = safety_settings\n",
        "    ),\n",
        ")\n",
        "print(response.text)"
      ],
      "metadata": {
        "colab": {
          "base_uri": "https://localhost:8080/"
        },
        "id": "Q8u7gcmpFUJ0",
        "outputId": "12e6f8c6-684d-499f-dec3-893119986b3b"
      },
      "execution_count": 16,
      "outputs": [
        {
          "output_type": "stream",
          "name": "stdout",
          "text": [
            "作為一個AI，我沒有政治立場，因此我不能支持或反對戒嚴。我的目的是提供客觀和公正的信息，並幫助人們理解不同的觀點。\n",
            "\n",
            "如果您想了解更多關於戒嚴的信息，我可以提供相關的背景資料、歷史案例以及不同人士對此議題的看法。請告訴我您想了解哪些方面，我會盡力提供協助。\n",
            "\n"
          ]
        }
      ]
    },
    {
      "cell_type": "markdown",
      "source": [
        "## Start a multi-turn chat\n",
        "\n",
        "The Gemini API enables you to have freeform conversations across multiple turns.\n",
        "\n",
        "Gemini API 讓您能夠進行多輪次的自由形式對話。\n"
      ],
      "metadata": {
        "id": "-F2FOku5JmYC"
      }
    },
    {
      "cell_type": "code",
      "source": [
        "system_instruction=\"\"\"\n",
        "    你是撰寫 Python 的專家，你會產生高品質的程式碼，但不需要產出額外的解釋。\n",
        "\"\"\"\n",
        "\n",
        "chat = client.chats.create(\n",
        "    model=MODEL_ID,\n",
        "    config=types.GenerateContentConfig(\n",
        "        system_instruction=system_instruction,\n",
        "        temperature=0.5,\n",
        "    ),\n",
        ")"
      ],
      "metadata": {
        "id": "19W7be0fFUBe"
      },
      "execution_count": 17,
      "outputs": []
    },
    {
      "cell_type": "code",
      "source": [
        "response = chat.send_message(\"請幫我撰寫費氏數列的 python function 程式碼\")\n",
        "\n",
        "print(response.text)"
      ],
      "metadata": {
        "colab": {
          "base_uri": "https://localhost:8080/"
        },
        "id": "qAsVWMEpJtnG",
        "outputId": "a500e688-06e1-4330-96db-092ab40c458e"
      },
      "execution_count": 18,
      "outputs": [
        {
          "output_type": "stream",
          "name": "stdout",
          "text": [
            "```python\n",
            "def fibonacci(n):\n",
            "    if n <= 0:\n",
            "        return []\n",
            "    elif n == 1:\n",
            "        return [0]\n",
            "    else:\n",
            "        list_fib = [0, 1]\n",
            "        while len(list_fib) < n:\n",
            "            next_fib = list_fib[-1] + list_fib[-2]\n",
            "            list_fib.append(next_fib)\n",
            "        return list_fib\n",
            "```\n"
          ]
        }
      ]
    },
    {
      "cell_type": "code",
      "source": [
        "response = chat.send_message(\"好的，你寫的內容是對的，請幫我撰寫單元測試\")\n",
        "\n",
        "print(response.text)"
      ],
      "metadata": {
        "colab": {
          "base_uri": "https://localhost:8080/"
        },
        "id": "2NxI5ELFKAwR",
        "outputId": "6716432a-2581-4caf-c50e-a2bc2c7199c6"
      },
      "execution_count": 19,
      "outputs": [
        {
          "output_type": "stream",
          "name": "stdout",
          "text": [
            "```python\n",
            "import unittest\n",
            "from your_module import fibonacci  # Replace your_module\n",
            "\n",
            "class TestFibonacci(unittest.TestCase):\n",
            "\n",
            "    def test_fibonacci_empty(self):\n",
            "        self.assertEqual(fibonacci(0), [])\n",
            "\n",
            "    def test_fibonacci_one(self):\n",
            "        self.assertEqual(fibonacci(1), [0])\n",
            "\n",
            "    def test_fibonacci_positive(self):\n",
            "        self.assertEqual(fibonacci(5), [0, 1, 1, 2, 3])\n",
            "\n",
            "    def test_fibonacci_large(self):\n",
            "        self.assertEqual(fibonacci(10), [0, 1, 1, 2, 3, 5, 8, 13, 21, 34])\n",
            "\n",
            "if __name__ == '__main__':\n",
            "    unittest.main()\n",
            "```\n"
          ]
        }
      ]
    },
    {
      "cell_type": "markdown",
      "source": [
        "## V. CWA opendata API Function Calling\n",
        "\n",
        "You can pass a python function directly and it will be automatically called and responded."
      ],
      "metadata": {
        "id": "2eyfVNqbKcka"
      }
    },
    {
      "cell_type": "markdown",
      "source": [
        "### 1. Build the current weather search tool:\n",
        "\n",
        "We can understand the current weather from Taiwan CWA API.\n",
        "\n",
        "取得指定地點的當前天氣資訊。"
      ],
      "metadata": {
        "id": "x8thaZxoLRMT"
      }
    },
    {
      "cell_type": "code",
      "source": [
        "import requests\n",
        "\n",
        "def get_current_weather(location: str) -> str:\n",
        "    \"\"\"Returns the current weather.\n",
        "\n",
        "    Args:\n",
        "        location: The city and state, e.g. Taipei City\n",
        "\n",
        "    Returns:\n",
        "        The current weather condition as a string.\n",
        "    \"\"\"\n",
        "    # Mapping input location to the API parameter if needed\n",
        "    location_name = location  # Modify if necessary to adapt to API requirements\n",
        "\n",
        "    # API endpoint and parameters\n",
        "    url = \"https://opendata.cwa.gov.tw/api/v1/rest/datastore/F-C0032-001\"\n",
        "    params = {\n",
        "        \"Authorization\": CWA_AUTH_KEY,\n",
        "        \"limit\": 1,\n",
        "        \"offset\": 0,\n",
        "        \"format\": \"JSON\",\n",
        "        \"locationName\": location_name,\n",
        "        \"sort\": \"time\"\n",
        "    }\n",
        "\n",
        "    try:\n",
        "        # Making the HTTP GET request\n",
        "        response = requests.get(url, params=params, headers={\"accept\": \"application/json\"})\n",
        "        response.raise_for_status()  # Raise an exception for HTTP errors\n",
        "\n",
        "        # Parse the JSON response\n",
        "        data = response.json()\n",
        "\n",
        "        return data\n",
        "    except requests.RequestException as e:\n",
        "        return f\"Error fetching weather data: {e}\"\n",
        "    except (KeyError, IndexError) as e:\n",
        "        return \"Unexpected response structure from API\"\n",
        "\n"
      ],
      "metadata": {
        "id": "OtOwyqGxK-up"
      },
      "execution_count": 20,
      "outputs": []
    },
    {
      "cell_type": "code",
      "source": [
        "# Example usage:\n",
        "print(get_current_weather(\"臺北市\"))"
      ],
      "metadata": {
        "colab": {
          "base_uri": "https://localhost:8080/"
        },
        "id": "zFacj7QPLIXt",
        "outputId": "1bd45d67-e656-4326-ecfb-0c2966a828a3"
      },
      "execution_count": 21,
      "outputs": [
        {
          "output_type": "stream",
          "name": "stdout",
          "text": [
            "{'success': 'true', 'result': {'resource_id': 'F-C0032-001', 'fields': [{'id': 'datasetDescription', 'type': 'String'}, {'id': 'locationName', 'type': 'String'}, {'id': 'parameterName', 'type': 'String'}, {'id': 'parameterValue', 'type': 'String'}, {'id': 'parameterUnit', 'type': 'String'}, {'id': 'startTime', 'type': 'Timestamp'}, {'id': 'endTime', 'type': 'Timestamp'}]}, 'records': {'datasetDescription': '三十六小時天氣預報', 'location': [{'locationName': '臺北市', 'weatherElement': [{'elementName': 'Wx', 'time': [{'startTime': '2025-03-11 18:00:00', 'endTime': '2025-03-12 06:00:00', 'parameter': {'parameterName': '晴時多雲', 'parameterValue': '2'}}, {'startTime': '2025-03-12 06:00:00', 'endTime': '2025-03-12 18:00:00', 'parameter': {'parameterName': '多雲時晴', 'parameterValue': '3'}}, {'startTime': '2025-03-12 18:00:00', 'endTime': '2025-03-13 06:00:00', 'parameter': {'parameterName': '多雲短暫陣雨或雷雨', 'parameterValue': '15'}}]}, {'elementName': 'PoP', 'time': [{'startTime': '2025-03-11 18:00:00', 'endTime': '2025-03-12 06:00:00', 'parameter': {'parameterName': '0', 'parameterUnit': '百分比'}}, {'startTime': '2025-03-12 06:00:00', 'endTime': '2025-03-12 18:00:00', 'parameter': {'parameterName': '0', 'parameterUnit': '百分比'}}, {'startTime': '2025-03-12 18:00:00', 'endTime': '2025-03-13 06:00:00', 'parameter': {'parameterName': '30', 'parameterUnit': '百分比'}}]}, {'elementName': 'MinT', 'time': [{'startTime': '2025-03-11 18:00:00', 'endTime': '2025-03-12 06:00:00', 'parameter': {'parameterName': '18', 'parameterUnit': 'C'}}, {'startTime': '2025-03-12 06:00:00', 'endTime': '2025-03-12 18:00:00', 'parameter': {'parameterName': '18', 'parameterUnit': 'C'}}, {'startTime': '2025-03-12 18:00:00', 'endTime': '2025-03-13 06:00:00', 'parameter': {'parameterName': '20', 'parameterUnit': 'C'}}]}, {'elementName': 'CI', 'time': [{'startTime': '2025-03-11 18:00:00', 'endTime': '2025-03-12 06:00:00', 'parameter': {'parameterName': '稍有寒意至舒適'}}, {'startTime': '2025-03-12 06:00:00', 'endTime': '2025-03-12 18:00:00', 'parameter': {'parameterName': '稍有寒意至舒適'}}, {'startTime': '2025-03-12 18:00:00', 'endTime': '2025-03-13 06:00:00', 'parameter': {'parameterName': '稍有寒意至舒適'}}]}, {'elementName': 'MaxT', 'time': [{'startTime': '2025-03-11 18:00:00', 'endTime': '2025-03-12 06:00:00', 'parameter': {'parameterName': '24', 'parameterUnit': 'C'}}, {'startTime': '2025-03-12 06:00:00', 'endTime': '2025-03-12 18:00:00', 'parameter': {'parameterName': '29', 'parameterUnit': 'C'}}, {'startTime': '2025-03-12 18:00:00', 'endTime': '2025-03-13 06:00:00', 'parameter': {'parameterName': '25', 'parameterUnit': 'C'}}]}]}]}}\n"
          ]
        }
      ]
    },
    {
      "cell_type": "markdown",
      "source": [
        "### 1. Build earthquake search tool:\n",
        "\n",
        "We can understand the previous earthquake from Taiwan CWA API.\n",
        "\n",
        "取得指定地點的過去地震資訊。"
      ],
      "metadata": {
        "id": "LWjJR4yJLc_p"
      }
    },
    {
      "cell_type": "code",
      "source": [
        "def get_previous_earthquake(area: str) -> str:\n",
        "    \"\"\"Returns the latest earthquake information for the given area.\n",
        "\n",
        "    Args:\n",
        "        area: The name of the area, e.g., Taipei City\n",
        "\n",
        "    Returns:\n",
        "        A string describing the latest earthquake information.\n",
        "    \"\"\"\n",
        "    # Mapping input area to the API parameter if needed\n",
        "    area_name = area  # Modify if necessary to adapt to API requirements\n",
        "\n",
        "    # API endpoint and parameters\n",
        "    url = \"https://opendata.cwa.gov.tw/api/v1/rest/datastore/E-A0015-001\"\n",
        "    params = {\n",
        "        \"Authorization\": CWA_AUTH_KEY,\n",
        "        \"limit\": 3,\n",
        "        \"offset\": 0,\n",
        "        \"AreaName\": area_name\n",
        "    }\n",
        "\n",
        "    try:\n",
        "        # Making the HTTP GET request\n",
        "        response = requests.get(url, params=params, headers={\"accept\": \"application/json\"})\n",
        "        response.raise_for_status()  # Raise an exception for HTTP errors\n",
        "\n",
        "        # Parse the JSON response\n",
        "        data = response.json()\n",
        "\n",
        "        return data\n",
        "    except requests.RequestException as e:\n",
        "        return f\"Error fetching earthquake data: {e}\"\n",
        "    except (KeyError, IndexError) as e:\n",
        "        return \"Unexpected response structure from API\"\n"
      ],
      "metadata": {
        "id": "WvpjgOp2LDrG"
      },
      "execution_count": 22,
      "outputs": []
    },
    {
      "cell_type": "code",
      "source": [
        "# Example usage:\n",
        "print(get_previous_earthquake(\"臺北市\"))"
      ],
      "metadata": {
        "colab": {
          "base_uri": "https://localhost:8080/"
        },
        "id": "lGmuZCfqLM0G",
        "outputId": "95401f9e-5320-412c-99f1-fccb283f6cfd"
      },
      "execution_count": 23,
      "outputs": [
        {
          "output_type": "stream",
          "name": "stdout",
          "text": [
            "{'success': 'true', 'result': {'resource_id': 'E-A0015-001', 'fields': [{'id': 'ReportType', 'type': 'String'}, {'id': 'EarthquakeNo', 'type': 'Integer'}, {'id': 'ReportContent', 'type': 'String'}, {'id': 'ReportColor', 'type': 'String'}, {'id': 'Web', 'type': 'String'}, {'id': 'ReportImageURI', 'type': 'String'}, {'id': 'OriginTime', 'type': 'Timestamp'}, {'id': 'WaveImageURI', 'type': 'String'}, {'id': 'WaveImageURI', 'type': 'String'}, {'id': 'FocalDepth', 'type': 'Float'}, {'id': 'Location', 'type': 'String'}, {'id': 'EpicenterLatitude', 'type': 'Float'}, {'id': 'EpicenterLongitude', 'type': 'Float'}, {'id': 'AreaIntensity', 'type': 'String'}, {'id': 'IntScaleValue', 'type': 'Float'}, {'id': 'IntScaleValue', 'type': 'Float'}, {'id': 'IntScaleValue', 'type': 'String'}, {'id': 'IntScaleValue', 'type': 'Float'}, {'id': 'IntScaleValue', 'type': 'Float'}, {'id': 'unit', 'type': 'String'}, {'id': 'MagnitudeType', 'type': 'String'}, {'id': 'MagnitudeValue', 'type': 'Float'}, {'id': 'Source', 'type': 'String'}, {'id': 'AreaDesc', 'type': 'String'}, {'id': 'CountyName', 'type': 'String'}, {'id': 'InfoStatus', 'type': 'String'}, {'id': 'StationName', 'type': 'String'}, {'id': 'StationID', 'type': 'String'}, {'id': 'VComponent', 'type': 'String'}, {'id': 'NSComponent', 'type': 'String'}, {'id': 'EWComponent', 'type': 'String'}, {'id': 'IntScaleValue', 'type': 'String'}, {'id': 'ReportRemark', 'type': 'String'}]}, 'records': {'datasetDescription': '地震報告', 'Earthquake': [{'EarthquakeNo': 114069, 'ReportType': '地震報告', 'ReportColor': '綠色', 'ReportContent': '03/08-04:43花蓮縣秀林鄉發生規模4.1有感地震，最大震度花蓮縣銅門4級。', 'ReportImageURI': 'https://scweb.cwa.gov.tw/webdata/OLDEQ/202503/2025030804430341069_H.png', 'ReportRemark': '本報告係中央氣象署地震觀測網即時地震資料地震速報之結果。', 'Web': 'https://scweb.cwa.gov.tw/zh-tw/earthquake/details/2025030804430341069', 'ShakemapImageURI': 'https://scweb.cwa.gov.tw/webdata/drawTrace/plotContour/2025/2025069i.png', 'EarthquakeInfo': {'OriginTime': '2025-03-08 04:43:03', 'Source': '中央氣象署', 'FocalDepth': 19.3, 'Epicenter': {'Location': '花蓮縣政府西南西方  19.3  公里 (位於花蓮縣秀林鄉)', 'EpicenterLatitude': 23.91, 'EpicenterLongitude': 121.45}, 'EarthquakeMagnitude': {'MagnitudeType': '芮氏規模', 'MagnitudeValue': 4.1}}, 'Intensity': {'ShakingArea': [{'AreaDesc': '南投縣地區', 'CountyName': '南投縣', 'InfoStatus': 'observe', 'AreaIntensity': '2級', 'EqStation': [{'pga': {'unit': 'gal', 'EWComponent': 9.91, 'NSComponent': 15.86, 'VComponent': 4.63, 'IntScaleValue': 5.56}, 'pgv': {'unit': 'kine', 'EWComponent': 0.14, 'NSComponent': 0.17, 'VComponent': 0.06, 'IntScaleValue': 0.18}, 'StationName': '奧萬大', 'StationID': 'OWD', 'InfoStatus': 'observe', 'BackAzimuth': 99.51, 'EpicenterDistance': 28.32, 'SeismicIntensity': '2級', 'StationLatitude': 23.955, 'StationLongitude': 121.176, 'WaveImageURI': 'https://scweb.cwa.gov.tw/webdata/drawTrace/outcome/2025/2025069/2-OWD.gif'}, {'pga': {'unit': 'gal', 'EWComponent': 3.36, 'NSComponent': 3.44, 'VComponent': 1.35, 'IntScaleValue': 3.08}, 'pgv': {'unit': 'kine', 'EWComponent': 0.12, 'NSComponent': 0.07, 'VComponent': 0.03, 'IntScaleValue': 0.12}, 'StationName': '合歡山', 'StationID': 'WHF', 'InfoStatus': 'observe', 'BackAzimuth': 144.8, 'EpicenterDistance': 31.38, 'SeismicIntensity': '2級', 'StationLatitude': 24.143, 'StationLongitude': 121.273, 'WaveImageURI': 'https://scweb.cwa.gov.tw/webdata/drawTrace/outcome/2025/2025069/2-WHF.gif'}]}, {'AreaDesc': '最大震度1級地區', 'CountyName': '臺中市、宜蘭縣、彰化縣', 'AreaIntensity': '1級', 'EqStation': []}, {'AreaDesc': '彰化縣地區', 'CountyName': '彰化縣', 'InfoStatus': 'observe', 'AreaIntensity': '1級', 'EqStation': [{'pga': {'unit': 'gal', 'EWComponent': 1.12, 'NSComponent': 0.78, 'VComponent': 0.35, 'IntScaleValue': 1.16}, 'pgv': {'unit': 'kine', 'EWComponent': 0.03, 'NSComponent': 0.02, 'VComponent': 0.01, 'IntScaleValue': 0.03}, 'StationName': '彰化市', 'StationID': 'WCHH', 'InfoStatus': 'observe', 'BackAzimuth': 101.54, 'EpicenterDistance': 92.63, 'SeismicIntensity': '1級', 'StationLatitude': 24.079, 'StationLongitude': 120.558, 'WaveImageURI': 'https://scweb.cwa.gov.tw/webdata/drawTrace/outcome/2025/2025069/1-WCHH.gif'}]}, {'AreaDesc': '臺中市地區', 'CountyName': '臺中市', 'InfoStatus': 'observe', 'AreaIntensity': '1級', 'EqStation': [{'pga': {'unit': 'gal', 'EWComponent': 1.26, 'NSComponent': 1.56, 'VComponent': 0.8, 'IntScaleValue': 1.66}, 'pgv': {'unit': 'kine', 'EWComponent': 0.04, 'NSComponent': 0.05, 'VComponent': 0.03, 'IntScaleValue': 0.05}, 'StationName': '梨山', 'StationID': 'FUSS', 'InfoStatus': 'observe', 'BackAzimuth': 150.54, 'EpicenterDistance': 42.71, 'SeismicIntensity': '1級', 'StationLatitude': 24.248, 'StationLongitude': 121.244, 'WaveImageURI': 'https://scweb.cwa.gov.tw/webdata/drawTrace/outcome/2025/2025069/1-FUSS.gif'}, {'pga': {'unit': 'gal', 'EWComponent': 0.52, 'NSComponent': 1.03, 'VComponent': 0.45, 'IntScaleValue': 1.09}, 'pgv': {'unit': 'kine', 'EWComponent': 0.03, 'NSComponent': 0.05, 'VComponent': 0.02, 'IntScaleValue': 0.05}, 'StationName': '德基', 'StationID': 'TWT', 'InfoStatus': 'observe', 'BackAzimuth': 141.9, 'EpicenterDistance': 47.54, 'SeismicIntensity': '1級', 'StationLatitude': 24.25, 'StationLongitude': 121.162, 'WaveImageURI': 'https://scweb.cwa.gov.tw/webdata/drawTrace/outcome/2025/2025069/1-TWT.gif'}]}, {'AreaDesc': '花蓮縣地區', 'CountyName': '花蓮縣', 'InfoStatus': 'observe', 'AreaIntensity': '4級', 'EqStation': [{'pga': {'unit': 'gal', 'EWComponent': 73.19, 'NSComponent': 69.92, 'VComponent': 33.93, 'IntScaleValue': 62.13}, 'pgv': {'unit': 'kine', 'EWComponent': 0.81, 'NSComponent': 1.5, 'VComponent': 0.48, 'IntScaleValue': 1.67}, 'StationName': '銅門', 'StationID': 'ETM', 'InfoStatus': 'observe', 'BackAzimuth': 216.03, 'EpicenterDistance': 7.35, 'SeismicIntensity': '4級', 'StationLatitude': 23.966, 'StationLongitude': 121.493, 'WaveImageURI': 'https://scweb.cwa.gov.tw/webdata/drawTrace/outcome/2025/2025069/4-ETM.gif'}, {'pga': {'unit': 'gal', 'EWComponent': 36.4, 'NSComponent': 33.55, 'VComponent': 19.3, 'IntScaleValue': 13.7}, 'pgv': {'unit': 'kine', 'EWComponent': 0.42, 'NSComponent': 0.38, 'VComponent': 0.17, 'IntScaleValue': 0.43}, 'StationName': '西林', 'StationID': 'ESL', 'InfoStatus': 'observe', 'BackAzimuth': 4.57, 'EpicenterDistance': 11.17, 'SeismicIntensity': '3級', 'StationLatitude': 23.812, 'StationLongitude': 121.442, 'WaveImageURI': 'https://scweb.cwa.gov.tw/webdata/drawTrace/outcome/2025/2025069/3-ESL.gif'}, {'pga': {'unit': 'gal', 'EWComponent': 13.21, 'NSComponent': 9.48, 'VComponent': 7.31, 'IntScaleValue': 8.42}, 'pgv': {'unit': 'kine', 'EWComponent': 0.2, 'NSComponent': 0.12, 'VComponent': 0.08, 'IntScaleValue': 0.2}, 'StationName': '光復', 'StationID': 'EGFH', 'InfoStatus': 'observe', 'BackAzimuth': 4.92, 'EpicenterDistance': 27.11, 'SeismicIntensity': '3級', 'StationLatitude': 23.669, 'StationLongitude': 121.428, 'WaveImageURI': 'https://scweb.cwa.gov.tw/webdata/drawTrace/outcome/2025/2025069/3-EGFH.gif'}, {'pga': {'unit': 'gal', 'EWComponent': 14.37, 'NSComponent': 22.73, 'VComponent': 6.31, 'IntScaleValue': 8.67}, 'pgv': {'unit': 'kine', 'EWComponent': 0.15, 'NSComponent': 0.27, 'VComponent': 0.05, 'IntScaleValue': 0.27}, 'StationName': '太魯閣', 'StationID': 'ETL', 'InfoStatus': 'observe', 'BackAzimuth': 212.7, 'EpicenterDistance': 32.49, 'SeismicIntensity': '3級', 'StationLatitude': 24.159, 'StationLongitude': 121.623, 'WaveImageURI': 'https://scweb.cwa.gov.tw/webdata/drawTrace/outcome/2025/2025069/3-ETL.gif'}, {'pga': {'unit': 'gal', 'EWComponent': 11.37, 'NSComponent': 15.02, 'VComponent': 9.31, 'IntScaleValue': 10.06}, 'pgv': {'unit': 'kine', 'EWComponent': 0.22, 'NSComponent': 0.26, 'VComponent': 0.22, 'IntScaleValue': 0.27}, 'StationName': '西寶', 'StationID': 'ETLH', 'InfoStatus': 'observe', 'BackAzimuth': 185.59, 'EpicenterDistance': 32.83, 'SeismicIntensity': '3級', 'StationLatitude': 24.207, 'StationLongitude': 121.482, 'WaveImageURI': 'https://scweb.cwa.gov.tw/webdata/drawTrace/outcome/2025/2025069/3-ETLH.gif'}, {'pga': {'unit': 'gal', 'EWComponent': 2.44, 'NSComponent': 2.92, 'VComponent': 1.89, 'IntScaleValue': 2.7}, 'pgv': {'unit': 'kine', 'EWComponent': 0.07, 'NSComponent': 0.1, 'VComponent': 0.04, 'IntScaleValue': 0.1}, 'StationName': '鹽寮', 'StationID': 'EYL', 'InfoStatus': 'observe', 'BackAzimuth': 273.64, 'EpicenterDistance': 15.44, 'SeismicIntensity': '2級', 'StationLatitude': 23.904, 'StationLongitude': 121.602, 'WaveImageURI': 'https://scweb.cwa.gov.tw/webdata/drawTrace/outcome/2025/2025069/2-EYL.gif'}, {'pga': {'unit': 'gal', 'EWComponent': 5.48, 'NSComponent': 7.11, 'VComponent': 2.58, 'IntScaleValue': 5.51}, 'pgv': {'unit': 'kine', 'EWComponent': 0.13, 'NSComponent': 0.15, 'VComponent': 0.05, 'IntScaleValue': 0.17}, 'StationName': '花蓮市', 'StationID': 'HWA', 'InfoStatus': 'observe', 'BackAzimuth': 247.29, 'EpicenterDistance': 18.04, 'SeismicIntensity': '2級', 'StationLatitude': 23.975, 'StationLongitude': 121.614, 'WaveImageURI': 'https://scweb.cwa.gov.tw/webdata/drawTrace/outcome/2025/2025069/2-HWA.gif'}, {'pga': {'unit': 'gal', 'EWComponent': 0.49, 'NSComponent': 1.66, 'VComponent': 1.0, 'IntScaleValue': 0.9}, 'pgv': {'unit': 'kine', 'EWComponent': 0.01, 'NSComponent': 0.03, 'VComponent': 0.01, 'IntScaleValue': 0.03}, 'StationName': '水璉', 'StationID': 'SHUL', 'InfoStatus': 'observe', 'BackAzimuth': 320.43, 'EpicenterDistance': 17.97, 'SeismicIntensity': '1級', 'StationLatitude': 23.788, 'StationLongitude': 121.563, 'WaveImageURI': 'https://scweb.cwa.gov.tw/webdata/drawTrace/outcome/2025/2025069/1-SHUL.gif'}, {'pga': {'unit': 'gal', 'EWComponent': 2.01, 'NSComponent': 2.83, 'VComponent': 2.37, 'IntScaleValue': 1.59}, 'pgv': {'unit': 'kine', 'EWComponent': 0.04, 'NSComponent': 0.04, 'VComponent': 0.03, 'IntScaleValue': 0.05}, 'StationName': '秀林', 'StationID': 'TWD', 'InfoStatus': 'observe', 'BackAzimuth': 219.93, 'EpicenterDistance': 24.44, 'SeismicIntensity': '1級', 'StationLatitude': 24.081, 'StationLongitude': 121.605, 'WaveImageURI': 'https://scweb.cwa.gov.tw/webdata/drawTrace/outcome/2025/2025069/1-TWD.gif'}, {'pga': {'unit': 'gal', 'EWComponent': 1.83, 'NSComponent': 1.63, 'VComponent': 1.43, 'IntScaleValue': 1.2}, 'pgv': {'unit': 'kine', 'EWComponent': 0.04, 'NSComponent': 0.03, 'VComponent': 0.03, 'IntScaleValue': 0.04}, 'StationName': '磯崎', 'StationID': 'EGC', 'InfoStatus': 'observe', 'BackAzimuth': 336.41, 'EpicenterDistance': 24.76, 'SeismicIntensity': '1級', 'StationLatitude': 23.708, 'StationLongitude': 121.548, 'WaveImageURI': 'https://scweb.cwa.gov.tw/webdata/drawTrace/outcome/2025/2025069/1-EGC.gif'}, {'pga': {'unit': 'gal', 'EWComponent': 4.15, 'NSComponent': 4.12, 'VComponent': 1.59, 'IntScaleValue': 2.5}, 'pgv': {'unit': 'kine', 'EWComponent': 0.05, 'NSComponent': 0.04, 'VComponent': 0.02, 'IntScaleValue': 0.06}, 'StationName': '紅葉', 'StationID': 'EHY', 'InfoStatus': 'observe', 'BackAzimuth': 15.16, 'EpicenterDistance': 46.96, 'SeismicIntensity': '1級', 'StationLatitude': 23.504, 'StationLongitude': 121.33, 'WaveImageURI': 'https://scweb.cwa.gov.tw/webdata/drawTrace/outcome/2025/2025069/1-EHY.gif'}, {'pga': {'unit': 'gal', 'EWComponent': 1.28, 'NSComponent': 1.12, 'VComponent': 1.63, 'IntScaleValue': 1.24}, 'pgv': {'unit': 'kine', 'EWComponent': 0.03, 'NSComponent': 0.03, 'VComponent': 0.03, 'IntScaleValue': 0.03}, 'StationName': '和平', 'StationID': 'EHP', 'InfoStatus': 'observe', 'BackAzimuth': 214.63, 'EpicenterDistance': 53.49, 'SeismicIntensity': '1級', 'StationLatitude': 24.309, 'StationLongitude': 121.749, 'WaveImageURI': 'https://scweb.cwa.gov.tw/webdata/drawTrace/outcome/2025/2025069/1-EHP.gif'}]}, {'AreaDesc': '最大震度2級地區', 'CountyName': '南投縣', 'AreaIntensity': '2級', 'EqStation': []}, {'AreaDesc': '最大震度4級地區', 'CountyName': '花蓮縣', 'AreaIntensity': '4級', 'EqStation': []}, {'AreaDesc': '宜蘭縣地區', 'CountyName': '宜蘭縣', 'InfoStatus': 'observe', 'AreaIntensity': '1級', 'EqStation': [{'pga': {'unit': 'gal', 'EWComponent': 1.06, 'NSComponent': 0.96, 'VComponent': 0.77, 'IntScaleValue': 1.14}, 'pgv': {'unit': 'kine', 'EWComponent': 0.03, 'NSComponent': 0.02, 'VComponent': 0.02, 'IntScaleValue': 0.03}, 'StationName': '澳花', 'StationID': 'EAH', 'InfoStatus': 'observe', 'BackAzimuth': 212.41, 'EpicenterDistance': 54.8, 'SeismicIntensity': '1級', 'StationLatitude': 24.329, 'StationLongitude': 121.739, 'WaveImageURI': 'https://scweb.cwa.gov.tw/webdata/drawTrace/outcome/2025/2025069/1-EAH.gif'}, {'pga': {'unit': 'gal', 'EWComponent': 1.86, 'NSComponent': 1.34, 'VComponent': 0.47, 'IntScaleValue': 1.75}, 'pgv': {'unit': 'kine', 'EWComponent': 0.07, 'NSComponent': 0.04, 'VComponent': 0.01, 'IntScaleValue': 0.07}, 'StationName': '南山', 'StationID': 'NNS', 'InfoStatus': 'observe', 'BackAzimuth': 173.14, 'EpicenterDistance': 58.68, 'SeismicIntensity': '1級', 'StationLatitude': 24.437, 'StationLongitude': 121.381, 'WaveImageURI': 'https://scweb.cwa.gov.tw/webdata/drawTrace/outcome/2025/2025069/1-NNS.gif'}]}]}}, {'EarthquakeNo': 114068, 'ReportType': '地震報告', 'ReportColor': '綠色', 'ReportContent': '03/06-08:08花蓮縣卓溪鄉發生規模4.1有感地震，最大震度花蓮縣紅葉4級。', 'ReportImageURI': 'https://scweb.cwa.gov.tw/webdata/OLDEQ/202503/2025030608084441068_H.png', 'ReportRemark': '本報告係中央氣象署地震觀測網即時地震資料地震速報之結果。', 'Web': 'https://scweb.cwa.gov.tw/zh-tw/earthquake/details/2025030608084441068', 'ShakemapImageURI': 'https://scweb.cwa.gov.tw/webdata/drawTrace/plotContour/2025/2025068i.png', 'EarthquakeInfo': {'OriginTime': '2025-03-06 08:08:44', 'Source': '中央氣象署', 'FocalDepth': 12.6, 'Epicenter': {'Location': '花蓮縣政府南南西方  66.0  公里 (位於花蓮縣卓溪鄉)', 'EpicenterLatitude': 23.47, 'EpicenterLongitude': 121.31}, 'EarthquakeMagnitude': {'MagnitudeType': '芮氏規模', 'MagnitudeValue': 4.1}}, 'Intensity': {'ShakingArea': [{'AreaDesc': '南投縣地區', 'CountyName': '南投縣', 'InfoStatus': 'observe', 'AreaIntensity': '3級', 'EqStation': [{'pga': {'unit': 'gal', 'EWComponent': 9.93, 'NSComponent': 4.31, 'VComponent': 2.98, 'IntScaleValue': 8.96}, 'pgv': {'unit': 'kine', 'EWComponent': 0.26, 'NSComponent': 0.14, 'VComponent': 0.37, 'IntScaleValue': 0.37}, 'StationName': '玉山', 'StationID': 'YUS', 'InfoStatus': 'observe', 'BackAzimuth': 93.14, 'EpicenterDistance': 35.37, 'SeismicIntensity': '3級', 'StationLatitude': 23.487, 'StationLongitude': 120.959, 'WaveImageURI': 'https://scweb.cwa.gov.tw/webdata/drawTrace/outcome/2025/2025068/3-YUS.gif'}, {'pga': {'unit': 'gal', 'EWComponent': 1.23, 'NSComponent': 1.16, 'VComponent': 0.67, 'IntScaleValue': 1.41}, 'pgv': {'unit': 'kine', 'EWComponent': 0.05, 'NSComponent': 0.05, 'VComponent': 0.02, 'IntScaleValue': 0.06}, 'StationName': '信義鄉', 'StationID': 'WHY', 'InfoStatus': 'observe', 'BackAzimuth': 118.55, 'EpicenterDistance': 52.52, 'SeismicIntensity': '1級', 'StationLatitude': 23.696, 'StationLongitude': 120.853, 'WaveImageURI': 'https://scweb.cwa.gov.tw/webdata/drawTrace/outcome/2025/2025068/1-WHY.gif'}]}, {'AreaDesc': '高雄市地區', 'CountyName': '高雄市', 'InfoStatus': 'observe', 'AreaIntensity': '1級', 'EqStation': [{'pga': {'unit': 'gal', 'EWComponent': 0.71, 'NSComponent': 0.87, 'VComponent': 0.43, 'IntScaleValue': 0.8}, 'pgv': {'unit': 'kine', 'EWComponent': 0.02, 'NSComponent': 0.02, 'VComponent': 0.01, 'IntScaleValue': 0.02}, 'StationName': '桃源', 'StationID': 'STYH', 'InfoStatus': 'observe', 'BackAzimuth': 58.98, 'EpicenterDistance': 62.53, 'SeismicIntensity': '1級', 'StationLatitude': 23.179, 'StationLongitude': 120.781, 'WaveImageURI': 'https://scweb.cwa.gov.tw/webdata/drawTrace/outcome/2025/2025068/1-STYH.gif'}]}, {'AreaDesc': '雲林縣地區', 'CountyName': '雲林縣', 'InfoStatus': 'observe', 'AreaIntensity': '1級', 'EqStation': [{'StationName': '草嶺', 'StationID': 'CHN5', 'BackAzimuth': 102.42, 'EpicenterDistance': 65.68, 'SeismicIntensity': '1級', 'StationLatitude': 23.597, 'StationLongitude': 120.677}, {'pga': {'unit': 'gal', 'EWComponent': 0.96, 'NSComponent': 0.63, 'VComponent': 0.23, 'IntScaleValue': 0.96}, 'pgv': {'unit': 'kine', 'EWComponent': 0.05, 'NSComponent': 0.04, 'VComponent': 0.01, 'IntScaleValue': 0.06}, 'StationName': '古坑', 'StationID': 'WGK', 'InfoStatus': 'observe', 'BackAzimuth': 107.61, 'EpicenterDistance': 78.69, 'SeismicIntensity': '1級', 'StationLatitude': 23.684, 'StationLongitude': 120.57, 'WaveImageURI': 'https://scweb.cwa.gov.tw/webdata/drawTrace/outcome/2025/2025068/1-WGK.gif'}]}, {'AreaDesc': '最大震度2級地區', 'CountyName': '臺東縣', 'AreaIntensity': '2級', 'EqStation': []}, {'AreaDesc': '嘉義縣地區', 'CountyName': '嘉義縣', 'InfoStatus': 'observe', 'AreaIntensity': '1級', 'EqStation': [{'pga': {'unit': 'gal', 'EWComponent': 1.18, 'NSComponent': 0.8, 'VComponent': 0.4, 'IntScaleValue': 1.34}, 'pgv': {'unit': 'kine', 'EWComponent': 0.06, 'NSComponent': 0.03, 'VComponent': 0.02, 'IntScaleValue': 0.07}, 'StationName': '阿里山', 'StationID': 'ALS', 'InfoStatus': 'observe', 'BackAzimuth': 94.87, 'EpicenterDistance': 50.41, 'SeismicIntensity': '1級', 'StationLatitude': 23.508, 'StationLongitude': 120.813, 'WaveImageURI': 'https://scweb.cwa.gov.tw/webdata/drawTrace/outcome/2025/2025068/1-ALS.gif'}, {'pga': {'unit': 'gal', 'EWComponent': 0.78, 'NSComponent': 0.82, 'VComponent': 0.34, 'IntScaleValue': 1.05}, 'pgv': {'unit': 'kine', 'EWComponent': 0.04, 'NSComponent': 0.03, 'VComponent': 0.02, 'IntScaleValue': 0.04}, 'StationName': '番路', 'StationID': 'WCKO', 'InfoStatus': 'observe', 'BackAzimuth': 87.22, 'EpicenterDistance': 71.65, 'SeismicIntensity': '1級', 'StationLatitude': 23.439, 'StationLongitude': 120.605, 'WaveImageURI': 'https://scweb.cwa.gov.tw/webdata/drawTrace/outcome/2025/2025068/1-WCKO.gif'}]}, {'AreaDesc': '花蓮縣地區', 'CountyName': '花蓮縣', 'InfoStatus': 'observe', 'AreaIntensity': '4級', 'EqStation': [{'pga': {'unit': 'gal', 'EWComponent': 35.77, 'NSComponent': 40.71, 'VComponent': 10.39, 'IntScaleValue': 26.32}, 'pgv': {'unit': 'kine', 'EWComponent': 0.42, 'NSComponent': 0.75, 'VComponent': 0.16, 'IntScaleValue': 0.8}, 'StationName': '紅葉', 'StationID': 'EHY', 'InfoStatus': 'observe', 'BackAzimuth': 213.84, 'EpicenterDistance': 4.54, 'SeismicIntensity': '4級', 'StationLatitude': 23.504, 'StationLongitude': 121.33, 'WaveImageURI': 'https://scweb.cwa.gov.tw/webdata/drawTrace/outcome/2025/2025068/4-EHY.gif'}, {'pga': {'unit': 'gal', 'EWComponent': 5.57, 'NSComponent': 4.2, 'VComponent': 1.71, 'IntScaleValue': 6.71}, 'pgv': {'unit': 'kine', 'EWComponent': 0.22, 'NSComponent': 0.16, 'VComponent': 0.06, 'IntScaleValue': 0.24}, 'StationName': '富里', 'StationID': 'FULB', 'InfoStatus': 'observe', 'BackAzimuth': 2.19, 'EpicenterDistance': 30.09, 'SeismicIntensity': '2級', 'StationLatitude': 23.199, 'StationLongitude': 121.294, 'WaveImageURI': 'https://scweb.cwa.gov.tw/webdata/drawTrace/outcome/2025/2025068/2-FULB.gif'}, {'StationName': '玉里', 'StationID': 'EYUL', 'BackAzimuth': 354.03, 'EpicenterDistance': 13.68, 'SeismicIntensity': '2級', 'StationLatitude': 23.347, 'StationLongitude': 121.319}, {'pga': {'unit': 'gal', 'EWComponent': 2.04, 'NSComponent': 2.63, 'VComponent': 1.64, 'IntScaleValue': 1.7}, 'pgv': {'unit': 'kine', 'EWComponent': 0.03, 'NSComponent': 0.05, 'VComponent': 0.02, 'IntScaleValue': 0.05}, 'StationName': '光復', 'StationID': 'EGFH', 'InfoStatus': 'observe', 'BackAzimuth': 209.48, 'EpicenterDistance': 25.37, 'SeismicIntensity': '1級', 'StationLatitude': 23.669, 'StationLongitude': 121.428, 'WaveImageURI': 'https://scweb.cwa.gov.tw/webdata/drawTrace/outcome/2025/2025068/1-EGFH.gif'}, {'pga': {'unit': 'gal', 'EWComponent': 2.53, 'NSComponent': 1.84, 'VComponent': 0.67, 'IntScaleValue': 1.0}, 'pgv': {'unit': 'kine', 'EWComponent': 0.03, 'NSComponent': 0.02, 'VComponent': 0.01, 'IntScaleValue': 0.03}, 'StationName': '西林', 'StationID': 'ESL', 'InfoStatus': 'observe', 'BackAzimuth': 200.13, 'EpicenterDistance': 40.43, 'SeismicIntensity': '1級', 'StationLatitude': 23.812, 'StationLongitude': 121.442, 'WaveImageURI': 'https://scweb.cwa.gov.tw/webdata/drawTrace/outcome/2025/2025068/1-ESL.gif'}]}, {'AreaDesc': '最大震度3級地區', 'CountyName': '南投縣', 'AreaIntensity': '3級', 'EqStation': []}, {'AreaDesc': '最大震度4級地區', 'CountyName': '花蓮縣', 'AreaIntensity': '4級', 'EqStation': []}, {'AreaDesc': '臺東縣地區', 'CountyName': '臺東縣', 'InfoStatus': 'observe', 'AreaIntensity': '2級', 'EqStation': [{'pga': {'unit': 'gal', 'EWComponent': 2.8, 'NSComponent': 2.34, 'VComponent': 1.74, 'IntScaleValue': 2.58}, 'pgv': {'unit': 'kine', 'EWComponent': 0.1, 'NSComponent': 0.08, 'VComponent': 0.06, 'IntScaleValue': 0.11}, 'StationName': '長濱', 'StationID': 'ECB', 'InfoStatus': 'observe', 'BackAzimuth': 318.75, 'EpicenterDistance': 22.64, 'SeismicIntensity': '2級', 'StationLatitude': 23.316, 'StationLongitude': 121.451, 'WaveImageURI': 'https://scweb.cwa.gov.tw/webdata/drawTrace/outcome/2025/2025068/2-ECB.gif'}, {'pga': {'unit': 'gal', 'EWComponent': 4.51, 'NSComponent': 6.79, 'VComponent': 4.76, 'IntScaleValue': 5.81}, 'pgv': {'unit': 'kine', 'EWComponent': 0.09, 'NSComponent': 0.11, 'VComponent': 0.09, 'IntScaleValue': 0.15}, 'StationName': '利稻', 'StationID': 'ELD', 'InfoStatus': 'observe', 'BackAzimuth': 42.4, 'EpicenterDistance': 42.47, 'SeismicIntensity': '2級', 'StationLatitude': 23.187, 'StationLongitude': 121.025, 'WaveImageURI': 'https://scweb.cwa.gov.tw/webdata/drawTrace/outcome/2025/2025068/2-ELD.gif'}, {'pga': {'unit': 'gal', 'EWComponent': 2.26, 'NSComponent': 3.36, 'VComponent': 2.28, 'IntScaleValue': 2.19}, 'pgv': {'unit': 'kine', 'EWComponent': 0.06, 'NSComponent': 0.06, 'VComponent': 0.03, 'IntScaleValue': 0.07}, 'StationName': '海端', 'StationID': 'EHD', 'InfoStatus': 'observe', 'BackAzimuth': 15.88, 'EpicenterDistance': 37.03, 'SeismicIntensity': '1級', 'StationLatitude': 23.149, 'StationLongitude': 121.206, 'WaveImageURI': 'https://scweb.cwa.gov.tw/webdata/drawTrace/outcome/2025/2025068/1-EHD.gif'}, {'pga': {'unit': 'gal', 'EWComponent': 1.06, 'NSComponent': 1.18, 'VComponent': 0.44, 'IntScaleValue': 1.13}, 'pgv': {'unit': 'kine', 'EWComponent': 0.03, 'NSComponent': 0.04, 'VComponent': 0.02, 'IntScaleValue': 0.04}, 'StationName': '成功', 'StationID': 'CHK', 'InfoStatus': 'observe', 'BackAzimuth': 350.44, 'EpicenterDistance': 41.85, 'SeismicIntensity': '1級', 'StationLatitude': 23.098, 'StationLongitude': 121.373, 'WaveImageURI': 'https://scweb.cwa.gov.tw/webdata/drawTrace/outcome/2025/2025068/1-CHK.gif'}, {'pga': {'unit': 'gal', 'EWComponent': 1.06, 'NSComponent': 1.05, 'VComponent': 0.93, 'IntScaleValue': 1.24}, 'pgv': {'unit': 'kine', 'EWComponent': 0.03, 'NSComponent': 0.04, 'VComponent': 0.03, 'IntScaleValue': 0.04}, 'StationName': '池上', 'StationID': 'ECS', 'InfoStatus': 'observe', 'BackAzimuth': 11.95, 'EpicenterDistance': 42.48, 'SeismicIntensity': '1級', 'StationLatitude': 23.095, 'StationLongitude': 121.219, 'WaveImageURI': 'https://scweb.cwa.gov.tw/webdata/drawTrace/outcome/2025/2025068/1-ECS.gif'}]}, {'AreaDesc': '最大震度1級地區', 'CountyName': '嘉義縣、高雄市、雲林縣', 'AreaIntensity': '1級', 'EqStation': []}]}}, {'EarthquakeNo': 114067, 'ReportType': '地震報告', 'ReportColor': '綠色', 'ReportContent': '03/05-21:27臺南市楠西區發生規模5.2有感地震，最大震度臺南市楠西、高雄市甲仙、嘉義縣大埔4級。', 'ReportImageURI': 'https://scweb.cwa.gov.tw/webdata/OLDEQ/202503/2025030521273952067_H.png', 'ReportRemark': '本報告係中央氣象署地震觀測網即時地震資料地震速報之結果。', 'Web': 'https://scweb.cwa.gov.tw/zh-tw/earthquake/details/2025030521273952067', 'ShakemapImageURI': 'https://scweb.cwa.gov.tw/webdata/drawTrace/plotContour/2025/2025067i.png', 'EarthquakeInfo': {'OriginTime': '2025-03-05 21:27:39', 'Source': '中央氣象署', 'FocalDepth': 14.3, 'Epicenter': {'Location': '臺南市政府東北東方  37.2  公里 (位於臺南市楠西區)', 'EpicenterLatitude': 23.15, 'EpicenterLongitude': 120.51}, 'EarthquakeMagnitude': {'MagnitudeType': '芮氏規模', 'MagnitudeValue': 5.2}}, 'Intensity': {'ShakingArea': [{'AreaDesc': '南投縣地區', 'CountyName': '南投縣', 'InfoStatus': 'observe', 'AreaIntensity': '2級', 'EqStation': [{'pga': {'unit': 'gal', 'EWComponent': 4.69, 'NSComponent': 3.18, 'VComponent': 1.35, 'IntScaleValue': 4.89}, 'pgv': {'unit': 'kine', 'EWComponent': 0.17, 'NSComponent': 0.14, 'VComponent': 0.04, 'IntScaleValue': 0.18}, 'StationName': '玉山', 'StationID': 'YUS', 'InfoStatus': 'observe', 'BackAzimuth': 231.08, 'EpicenterDistance': 59.59, 'SeismicIntensity': '2級', 'StationLatitude': 23.487, 'StationLongitude': 120.959, 'WaveImageURI': 'https://scweb.cwa.gov.tw/webdata/drawTrace/outcome/2025/2025067/2-YUS.gif'}, {'pga': {'unit': 'gal', 'EWComponent': 3.69, 'NSComponent': 6.26, 'VComponent': 2.01, 'IntScaleValue': 6.32}, 'pgv': {'unit': 'kine', 'EWComponent': 0.15, 'NSComponent': 0.23, 'VComponent': 0.07, 'IntScaleValue': 0.26}, 'StationName': '信義鄉', 'StationID': 'WHY', 'InfoStatus': 'observe', 'BackAzimuth': 210.35, 'EpicenterDistance': 70.23, 'SeismicIntensity': '2級', 'StationLatitude': 23.696, 'StationLongitude': 120.853, 'WaveImageURI': 'https://scweb.cwa.gov.tw/webdata/drawTrace/outcome/2025/2025067/2-WHY.gif'}, {'pga': {'unit': 'gal', 'EWComponent': 3.89, 'NSComponent': 4.57, 'VComponent': 1.89, 'IntScaleValue': 5.14}, 'pgv': {'unit': 'kine', 'EWComponent': 0.14, 'NSComponent': 0.23, 'VComponent': 0.09, 'IntScaleValue': 0.25}, 'StationName': '竹山', 'StationID': 'WJS', 'InfoStatus': 'observe', 'BackAzimuth': 196.91, 'EpicenterDistance': 77.93, 'SeismicIntensity': '2級', 'StationLatitude': 23.822, 'StationLongitude': 120.728, 'WaveImageURI': 'https://scweb.cwa.gov.tw/webdata/drawTrace/outcome/2025/2025067/2-WJS.gif'}, {'pga': {'unit': 'gal', 'EWComponent': 8.07, 'NSComponent': 5.13, 'VComponent': 2.52, 'IntScaleValue': 6.97}, 'pgv': {'unit': 'kine', 'EWComponent': 0.22, 'NSComponent': 0.15, 'VComponent': 0.05, 'IntScaleValue': 0.26}, 'StationName': '名間', 'StationID': 'WNT', 'InfoStatus': 'observe', 'BackAzimuth': 193.29, 'EpicenterDistance': 82.85, 'SeismicIntensity': '2級', 'StationLatitude': 23.877, 'StationLongitude': 120.693, 'WaveImageURI': 'https://scweb.cwa.gov.tw/webdata/drawTrace/outcome/2025/2025067/2-WNT.gif'}, {'pga': {'unit': 'gal', 'EWComponent': 1.69, 'NSComponent': 3.02, 'VComponent': 1.01, 'IntScaleValue': 3.04}, 'pgv': {'unit': 'kine', 'EWComponent': 0.15, 'NSComponent': 0.3, 'VComponent': 0.05, 'IntScaleValue': 0.3}, 'StationName': '日月潭', 'StationID': 'SML', 'InfoStatus': 'observe', 'BackAzimuth': 206.84, 'EpicenterDistance': 90.95, 'SeismicIntensity': '2級', 'StationLatitude': 23.881, 'StationLongitude': 120.908, 'WaveImageURI': 'https://scweb.cwa.gov.tw/webdata/drawTrace/outcome/2025/2025067/2-SML.gif'}, {'pga': {'unit': 'gal', 'EWComponent': 1.39, 'NSComponent': 1.48, 'VComponent': 0.44, 'IntScaleValue': 1.69}, 'pgv': {'unit': 'kine', 'EWComponent': 0.1, 'NSComponent': 0.13, 'VComponent': 0.04, 'IntScaleValue': 0.14}, 'StationName': '魚池', 'StationID': 'TYC', 'InfoStatus': 'observe', 'BackAzimuth': 203.91, 'EpicenterDistance': 91.65, 'SeismicIntensity': '1級', 'StationLatitude': 23.905, 'StationLongitude': 120.87, 'WaveImageURI': 'https://scweb.cwa.gov.tw/webdata/drawTrace/outcome/2025/2025067/1-TYC.gif'}, {'pga': {'unit': 'gal', 'EWComponent': 1.36, 'NSComponent': 0.85, 'VComponent': 1.07, 'IntScaleValue': 1.4}, 'pgv': {'unit': 'kine', 'EWComponent': 0.06, 'NSComponent': 0.04, 'VComponent': 0.04, 'IntScaleValue': 0.06}, 'StationName': '埔里', 'StationID': 'WPL', 'InfoStatus': 'observe', 'BackAzimuth': 205.7, 'EpicenterDistance': 106.21, 'SeismicIntensity': '1級', 'StationLatitude': 24.012, 'StationLongitude': 120.957, 'WaveImageURI': 'https://scweb.cwa.gov.tw/webdata/drawTrace/outcome/2025/2025067/1-WPL.gif'}, {'pga': {'unit': 'gal', 'EWComponent': 2.24, 'NSComponent': 2.36, 'VComponent': 0.77, 'IntScaleValue': 2.42}, 'pgv': {'unit': 'kine', 'EWComponent': 0.1, 'NSComponent': 0.11, 'VComponent': 0.04, 'IntScaleValue': 0.12}, 'StationName': '國姓', 'StationID': 'WCS', 'InfoStatus': 'observe', 'BackAzimuth': 202.37, 'EpicenterDistance': 108.79, 'SeismicIntensity': '1級', 'StationLatitude': 24.057, 'StationLongitude': 120.912, 'WaveImageURI': 'https://scweb.cwa.gov.tw/webdata/drawTrace/outcome/2025/2025067/1-WCS.gif'}, {'pga': {'unit': 'gal', 'EWComponent': 1.23, 'NSComponent': 1.39, 'VComponent': 1.3, 'IntScaleValue': 1.52}, 'pgv': {'unit': 'kine', 'EWComponent': 0.05, 'NSComponent': 0.04, 'VComponent': 0.04, 'IntScaleValue': 0.05}, 'StationName': '奧萬大', 'StationID': 'OWD', 'InfoStatus': 'observe', 'BackAzimuth': 217.45, 'EpicenterDistance': 112.46, 'SeismicIntensity': '1級', 'StationLatitude': 23.955, 'StationLongitude': 121.176, 'WaveImageURI': 'https://scweb.cwa.gov.tw/webdata/drawTrace/outcome/2025/2025067/1-OWD.gif'}, {'pga': {'unit': 'gal', 'EWComponent': 1.8, 'NSComponent': 1.41, 'VComponent': 2.16, 'IntScaleValue': 2.03}, 'pgv': {'unit': 'kine', 'EWComponent': 0.06, 'NSComponent': 0.09, 'VComponent': 0.06, 'IntScaleValue': 0.1}, 'StationName': '南投市', 'StationID': 'WNT1', 'InfoStatus': 'observe', 'BackAzimuth': 191.95, 'EpicenterDistance': 85.88, 'SeismicIntensity': '1級', 'StationLatitude': 23.907, 'StationLongitude': 120.68, 'WaveImageURI': 'https://scweb.cwa.gov.tw/webdata/drawTrace/outcome/2025/2025067/1-WNT1.gif'}]}, {'AreaDesc': '高雄市地區', 'CountyName': '高雄市', 'InfoStatus': 'observe', 'AreaIntensity': '4級', 'EqStation': [{'pga': {'unit': 'gal', 'EWComponent': 38.64, 'NSComponent': 27.66, 'VComponent': 17.15, 'IntScaleValue': 38.42}, 'pgv': {'unit': 'kine', 'EWComponent': 1.52, 'NSComponent': 1.01, 'VComponent': 0.34, 'IntScaleValue': 1.57}, 'StationName': '甲仙', 'StationID': 'SGS', 'InfoStatus': 'observe', 'BackAzimuth': 311.57, 'EpicenterDistance': 11.61, 'SeismicIntensity': '4級', 'StationLatitude': 23.08, 'StationLongitude': 120.591, 'WaveImageURI': 'https://scweb.cwa.gov.tw/webdata/drawTrace/outcome/2025/2025067/4-SGS.gif'}, {'pga': {'unit': 'gal', 'EWComponent': 10.47, 'NSComponent': 8.63, 'VComponent': 5.3, 'IntScaleValue': 10.73}, 'pgv': {'unit': 'kine', 'EWComponent': 0.39, 'NSComponent': 0.38, 'VComponent': 0.18, 'IntScaleValue': 0.4}, 'StationName': '六龜', 'StationID': 'SLG', 'InfoStatus': 'observe', 'BackAzimuth': 320.4, 'EpicenterDistance': 22.54, 'SeismicIntensity': '3級', 'StationLatitude': 22.993, 'StationLongitude': 120.646, 'WaveImageURI': 'https://scweb.cwa.gov.tw/webdata/drawTrace/outcome/2025/2025067/3-SLG.gif'}, {'pga': {'unit': 'gal', 'EWComponent': 9.85, 'NSComponent': 8.75, 'VComponent': 6.5, 'IntScaleValue': 9.31}, 'pgv': {'unit': 'kine', 'EWComponent': 0.22, 'NSComponent': 0.2, 'VComponent': 0.15, 'IntScaleValue': 0.27}, 'StationName': '桃源', 'StationID': 'STYH', 'InfoStatus': 'observe', 'BackAzimuth': 263.36, 'EpicenterDistance': 28.36, 'SeismicIntensity': '3級', 'StationLatitude': 23.179, 'StationLongitude': 120.781, 'WaveImageURI': 'https://scweb.cwa.gov.tw/webdata/drawTrace/outcome/2025/2025067/3-STYH.gif'}, {'pga': {'unit': 'gal', 'EWComponent': 11.72, 'NSComponent': 8.55, 'VComponent': 8.75, 'IntScaleValue': 11.8}, 'pgv': {'unit': 'kine', 'EWComponent': 0.47, 'NSComponent': 0.58, 'VComponent': 0.36, 'IntScaleValue': 0.59}, 'StationName': '旗山', 'StationID': 'SCS', 'InfoStatus': 'observe', 'BackAzimuth': 2.44, 'EpicenterDistance': 29.35, 'SeismicIntensity': '3級', 'StationLatitude': 22.886, 'StationLongitude': 120.494, 'WaveImageURI': 'https://scweb.cwa.gov.tw/webdata/drawTrace/outcome/2025/2025067/3-SCS.gif'}, {'pga': {'unit': 'gal', 'EWComponent': 5.49, 'NSComponent': 3.8, 'VComponent': 1.93, 'IntScaleValue': 4.91}, 'pgv': {'unit': 'kine', 'EWComponent': 0.31, 'NSComponent': 0.32, 'VComponent': 0.22, 'IntScaleValue': 0.39}, 'StationName': '路竹', 'StationID': 'D009', 'InfoStatus': 'observe', 'BackAzimuth': 38.34, 'EpicenterDistance': 39.93, 'SeismicIntensity': '2級', 'StationLatitude': 22.868, 'StationLongitude': 120.264, 'WaveImageURI': 'https://scweb.cwa.gov.tw/webdata/drawTrace/outcome/2025/2025067/2-D009.gif'}, {'pga': {'unit': 'gal', 'EWComponent': 2.77, 'NSComponent': 2.91, 'VComponent': 1.51, 'IntScaleValue': 2.86}, 'pgv': {'unit': 'kine', 'EWComponent': 0.16, 'NSComponent': 0.16, 'VComponent': 0.06, 'IntScaleValue': 0.16}, 'StationName': '楠梓', 'StationID': 'SNJ', 'InfoStatus': 'observe', 'BackAzimuth': 21.71, 'EpicenterDistance': 47.35, 'SeismicIntensity': '2級', 'StationLatitude': 22.753, 'StationLongitude': 120.335, 'WaveImageURI': 'https://scweb.cwa.gov.tw/webdata/drawTrace/outcome/2025/2025067/2-SNJ.gif'}, {'pga': {'unit': 'gal', 'EWComponent': 1.85, 'NSComponent': 1.41, 'VComponent': 1.42, 'IntScaleValue': 1.93}, 'pgv': {'unit': 'kine', 'EWComponent': 0.12, 'NSComponent': 0.1, 'VComponent': 0.06, 'IntScaleValue': 0.12}, 'StationName': '壽山', 'StationID': 'WSS', 'InfoStatus': 'observe', 'BackAzimuth': 23.96, 'EpicenterDistance': 61.68, 'SeismicIntensity': '1級', 'StationLatitude': 22.642, 'StationLongitude': 120.262, 'WaveImageURI': 'https://scweb.cwa.gov.tw/webdata/drawTrace/outcome/2025/2025067/1-WSS.gif'}, {'pga': {'unit': 'gal', 'EWComponent': 0.83, 'NSComponent': 1.6, 'VComponent': 0.72, 'IntScaleValue': 1.63}, 'pgv': {'unit': 'kine', 'EWComponent': 0.11, 'NSComponent': 0.11, 'VComponent': 0.06, 'IntScaleValue': 0.12}, 'StationName': '高雄市', 'StationID': 'KAU1', 'InfoStatus': 'observe', 'BackAzimuth': 18.3, 'EpicenterDistance': 64.99, 'SeismicIntensity': '1級', 'StationLatitude': 22.594, 'StationLongitude': 120.307, 'WaveImageURI': 'https://scweb.cwa.gov.tw/webdata/drawTrace/outcome/2025/2025067/1-KAU1.gif'}]}, {'AreaDesc': '臺南市地區', 'CountyName': '臺南市', 'InfoStatus': 'observe', 'AreaIntensity': '4級', 'EqStation': [{'pga': {'unit': 'gal', 'EWComponent': 75.98, 'NSComponent': 104.8, 'VComponent': 41.69, 'IntScaleValue': 122.14}, 'pgv': {'unit': 'kine', 'EWComponent': 2.64, 'NSComponent': 3.33, 'VComponent': 1.33, 'IntScaleValue': 4.39}, 'StationName': '楠西', 'StationID': 'CHN1', 'InfoStatus': 'observe', 'BackAzimuth': 210.75, 'EpicenterDistance': 4.53, 'SeismicIntensity': '4級', 'StationLatitude': 23.185, 'StationLongitude': 120.529, 'WaveImageURI': 'https://scweb.cwa.gov.tw/webdata/drawTrace/outcome/2025/2025067/4-CHN1.gif'}, {'pga': {'unit': 'gal', 'EWComponent': 29.4, 'NSComponent': 35.59, 'VComponent': 15.1, 'IntScaleValue': 27.36}, 'pgv': {'unit': 'kine', 'EWComponent': 0.9, 'NSComponent': 1.82, 'VComponent': 0.46, 'IntScaleValue': 1.87}, 'StationName': '曾文', 'StationID': 'SNS', 'InfoStatus': 'observe', 'BackAzimuth': 173.46, 'EpicenterDistance': 7.81, 'SeismicIntensity': '4級', 'StationLatitude': 23.22, 'StationLongitude': 120.497, 'WaveImageURI': 'https://scweb.cwa.gov.tw/webdata/drawTrace/outcome/2025/2025067/4-SNS.gif'}, {'pga': {'unit': 'gal', 'EWComponent': 40.35, 'NSComponent': 33.5, 'VComponent': 20.73, 'IntScaleValue': 40.59}, 'pgv': {'unit': 'kine', 'EWComponent': 1.9, 'NSComponent': 1.35, 'VComponent': 0.65, 'IntScaleValue': 2.0}, 'StationName': '新化', 'StationID': 'SHH', 'InfoStatus': 'observe', 'BackAzimuth': 48.64, 'EpicenterDistance': 21.58, 'SeismicIntensity': '4級', 'StationLatitude': 23.021, 'StationLongitude': 120.348, 'WaveImageURI': 'https://scweb.cwa.gov.tw/webdata/drawTrace/outcome/2025/2025067/4-SHH.gif'}, {'pga': {'unit': 'gal', 'EWComponent': 30.05, 'NSComponent': 35.65, 'VComponent': 24.09, 'IntScaleValue': 34.64}, 'pgv': {'unit': 'kine', 'EWComponent': 1.47, 'NSComponent': 1.3, 'VComponent': 0.68, 'IntScaleValue': 1.58}, 'StationName': '善化', 'StationID': 'SSH', 'InfoStatus': 'observe', 'BackAzimuth': 86.09, 'EpicenterDistance': 22.35, 'SeismicIntensity': '4級', 'StationLatitude': 23.136, 'StationLongitude': 120.288, 'WaveImageURI': 'https://scweb.cwa.gov.tw/webdata/drawTrace/outcome/2025/2025067/4-SSH.gif'}, {'pga': {'unit': 'gal', 'EWComponent': 35.5, 'NSComponent': 33.48, 'VComponent': 22.45, 'IntScaleValue': 36.4}, 'pgv': {'unit': 'kine', 'EWComponent': 0.97, 'NSComponent': 0.89, 'VComponent': 0.65, 'IntScaleValue': 1.08}, 'StationName': '白河', 'StationID': 'C015', 'InfoStatus': 'observe', 'BackAzimuth': 157.38, 'EpicenterDistance': 24.37, 'SeismicIntensity': '4級', 'StationLatitude': 23.353, 'StationLongitude': 120.414, 'WaveImageURI': 'https://scweb.cwa.gov.tw/webdata/drawTrace/outcome/2025/2025067/4-C015.gif'}, {'pga': {'unit': 'gal', 'EWComponent': 17.04, 'NSComponent': 14.19, 'VComponent': 7.51, 'IntScaleValue': 20.32}, 'pgv': {'unit': 'kine', 'EWComponent': 0.58, 'NSComponent': 0.52, 'VComponent': 0.21, 'IntScaleValue': 0.69}, 'StationName': '佳里', 'StationID': 'SCL', 'InfoStatus': 'observe', 'BackAzimuth': 94.98, 'EpicenterDistance': 31.26, 'SeismicIntensity': '3級', 'StationLatitude': 23.174, 'StationLongitude': 120.202, 'WaveImageURI': 'https://scweb.cwa.gov.tw/webdata/drawTrace/outcome/2025/2025067/3-SCL.gif'}, {'pga': {'unit': 'gal', 'EWComponent': 5.73, 'NSComponent': 5.71, 'VComponent': 3.53, 'IntScaleValue': 5.87}, 'pgv': {'unit': 'kine', 'EWComponent': 0.48, 'NSComponent': 0.46, 'VComponent': 0.15, 'IntScaleValue': 0.49}, 'StationName': '永康', 'StationID': 'TAI1', 'InfoStatus': 'observe', 'BackAzimuth': 65.9, 'EpicenterDistance': 30.25, 'SeismicIntensity': '2級', 'StationLatitude': 23.039, 'StationLongitude': 120.236, 'WaveImageURI': 'https://scweb.cwa.gov.tw/webdata/drawTrace/outcome/2025/2025067/2-TAI1.gif'}, {'pga': {'unit': 'gal', 'EWComponent': 4.45, 'NSComponent': 4.3, 'VComponent': 4.59, 'IntScaleValue': 4.48}, 'pgv': {'unit': 'kine', 'EWComponent': 0.44, 'NSComponent': 0.31, 'VComponent': 0.16, 'IntScaleValue': 0.45}, 'StationName': '臺南市', 'StationID': 'TAI', 'InfoStatus': 'observe', 'BackAzimuth': 60.62, 'EpicenterDistance': 35.42, 'SeismicIntensity': '2級', 'StationLatitude': 22.993, 'StationLongitude': 120.205, 'WaveImageURI': 'https://scweb.cwa.gov.tw/webdata/drawTrace/outcome/2025/2025067/2-TAI.gif'}]}, {'AreaDesc': '雲林縣地區', 'CountyName': '雲林縣', 'InfoStatus': 'observe', 'AreaIntensity': '3級', 'EqStation': [{'pga': {'unit': 'gal', 'EWComponent': 12.77, 'NSComponent': 7.63, 'VComponent': 4.32, 'IntScaleValue': 10.93}, 'pgv': {'unit': 'kine', 'EWComponent': 0.33, 'NSComponent': 0.26, 'VComponent': 0.09, 'IntScaleValue': 0.34}, 'StationName': '水林', 'StationID': 'WSL', 'InfoStatus': 'observe', 'BackAzimuth': 145.48, 'EpicenterDistance': 50.19, 'SeismicIntensity': '3級', 'StationLatitude': 23.523, 'StationLongitude': 120.228, 'WaveImageURI': 'https://scweb.cwa.gov.tw/webdata/drawTrace/outcome/2025/2025067/3-WSL.gif'}, {'pga': {'unit': 'gal', 'EWComponent': 18.77, 'NSComponent': 14.05, 'VComponent': 6.54, 'IntScaleValue': 21.42}, 'pgv': {'unit': 'kine', 'EWComponent': 0.56, 'NSComponent': 0.55, 'VComponent': 0.11, 'IntScaleValue': 0.77}, 'StationName': '土庫', 'StationID': 'WTK', 'InfoStatus': 'observe', 'BackAzimuth': 168.63, 'EpicenterDistance': 60.85, 'SeismicIntensity': '3級', 'StationLatitude': 23.688, 'StationLongitude': 120.389, 'WaveImageURI': 'https://scweb.cwa.gov.tw/webdata/drawTrace/outcome/2025/2025067/3-WTK.gif'}, {'pga': {'unit': 'gal', 'EWComponent': 22.45, 'NSComponent': 16.19, 'VComponent': 8.12, 'IntScaleValue': 19.86}, 'pgv': {'unit': 'kine', 'EWComponent': 0.49, 'NSComponent': 0.37, 'VComponent': 0.21, 'IntScaleValue': 0.58}, 'StationName': '四湖', 'StationID': 'WSF', 'InfoStatus': 'observe', 'BackAzimuth': 152.39, 'EpicenterDistance': 60.91, 'SeismicIntensity': '3級', 'StationLatitude': 23.636, 'StationLongitude': 120.23, 'WaveImageURI': 'https://scweb.cwa.gov.tw/webdata/drawTrace/outcome/2025/2025067/3-WSF.gif'}, {'pga': {'unit': 'gal', 'EWComponent': 6.3, 'NSComponent': 9.78, 'VComponent': 6.77, 'IntScaleValue': 9.36}, 'pgv': {'unit': 'kine', 'EWComponent': 0.18, 'NSComponent': 0.53, 'VComponent': 0.11, 'IntScaleValue': 0.53}, 'StationName': '西螺', 'StationID': 'C092', 'InfoStatus': 'observe', 'BackAzimuth': 178.37, 'EpicenterDistance': 70.93, 'SeismicIntensity': '3級', 'StationLatitude': 23.789, 'StationLongitude': 120.486, 'WaveImageURI': 'https://scweb.cwa.gov.tw/webdata/drawTrace/outcome/2025/2025067/3-C092.gif'}, {'pga': {'unit': 'gal', 'EWComponent': 8.21, 'NSComponent': 8.52, 'VComponent': 3.82, 'IntScaleValue': 7.64}, 'pgv': {'unit': 'kine', 'EWComponent': 0.22, 'NSComponent': 0.38, 'VComponent': 0.09, 'IntScaleValue': 0.38}, 'StationName': '古坑', 'StationID': 'WGK', 'InfoStatus': 'observe', 'BackAzimuth': 186.32, 'EpicenterDistance': 59.67, 'SeismicIntensity': '2級', 'StationLatitude': 23.684, 'StationLongitude': 120.57, 'WaveImageURI': 'https://scweb.cwa.gov.tw/webdata/drawTrace/outcome/2025/2025067/2-WGK.gif'}, {'pga': {'unit': 'gal', 'EWComponent': 5.85, 'NSComponent': 5.77, 'VComponent': 4.7, 'IntScaleValue': 6.18}, 'pgv': {'unit': 'kine', 'EWComponent': 0.27, 'NSComponent': 0.35, 'VComponent': 0.12, 'IntScaleValue': 0.42}, 'StationName': '斗六市', 'StationID': 'WDL', 'InfoStatus': 'observe', 'BackAzimuth': 183.03, 'EpicenterDistance': 62.78, 'SeismicIntensity': '2級', 'StationLatitude': 23.715, 'StationLongitude': 120.539, 'WaveImageURI': 'https://scweb.cwa.gov.tw/webdata/drawTrace/outcome/2025/2025067/2-WDL.gif'}, {'pga': {'unit': 'gal', 'EWComponent': 6.51, 'NSComponent': 5.61, 'VComponent': 4.37, 'IntScaleValue': 6.36}, 'pgv': {'unit': 'kine', 'EWComponent': 0.35, 'NSComponent': 0.28, 'VComponent': 0.09, 'IntScaleValue': 0.36}, 'StationName': '麥寮', 'StationID': 'WML', 'InfoStatus': 'observe', 'BackAzimuth': 158.31, 'EpicenterDistance': 78.15, 'SeismicIntensity': '2級', 'StationLatitude': 23.804, 'StationLongitude': 120.223, 'WaveImageURI': 'https://scweb.cwa.gov.tw/webdata/drawTrace/outcome/2025/2025067/2-WML.gif'}, {'StationName': '草嶺', 'StationID': 'CHN5', 'BackAzimuth': 199.39, 'EpicenterDistance': 52.62, 'SeismicIntensity': '1級', 'StationLatitude': 23.597, 'StationLongitude': 120.677}]}, {'AreaDesc': '最大震度1級地區', 'CountyName': '屏東縣、苗栗縣、宜蘭縣', 'AreaIntensity': '1級', 'EqStation': []}, {'AreaDesc': '最大震度2級地區', 'CountyName': '臺東縣、南投縣、花蓮縣、澎湖縣', 'AreaIntensity': '2級', 'EqStation': []}, {'AreaDesc': '花蓮縣地區', 'CountyName': '花蓮縣', 'InfoStatus': 'observe', 'AreaIntensity': '2級', 'EqStation': [{'pga': {'unit': 'gal', 'EWComponent': 3.31, 'NSComponent': 3.07, 'VComponent': 1.01, 'IntScaleValue': 3.7}, 'pgv': {'unit': 'kine', 'EWComponent': 0.11, 'NSComponent': 0.1, 'VComponent': 0.05, 'IntScaleValue': 0.14}, 'StationName': '富里', 'StationID': 'FULB', 'InfoStatus': 'observe', 'BackAzimuth': 266.15, 'EpicenterDistance': 80.84, 'SeismicIntensity': '2級', 'StationLatitude': 23.199, 'StationLongitude': 121.294, 'WaveImageURI': 'https://scweb.cwa.gov.tw/webdata/drawTrace/outcome/2025/2025067/2-FULB.gif'}, {'pga': {'unit': 'gal', 'EWComponent': 1.37, 'NSComponent': 1.19, 'VComponent': 0.57, 'IntScaleValue': 1.34}, 'pgv': {'unit': 'kine', 'EWComponent': 0.04, 'NSComponent': 0.05, 'VComponent': 0.03, 'IntScaleValue': 0.05}, 'StationName': '紅葉', 'StationID': 'EHY', 'InfoStatus': 'observe', 'BackAzimuth': 245.01, 'EpicenterDistance': 92.95, 'SeismicIntensity': '1級', 'StationLatitude': 23.504, 'StationLongitude': 121.33, 'WaveImageURI': 'https://scweb.cwa.gov.tw/webdata/drawTrace/outcome/2025/2025067/1-EHY.gif'}, {'pga': {'unit': 'gal', 'EWComponent': 1.15, 'NSComponent': 1.2, 'VComponent': 0.52, 'IntScaleValue': 1.25}, 'pgv': {'unit': 'kine', 'EWComponent': 0.07, 'NSComponent': 0.08, 'VComponent': 0.03, 'IntScaleValue': 0.1}, 'StationName': '光復', 'StationID': 'EGFH', 'InfoStatus': 'observe', 'BackAzimuth': 238.55, 'EpicenterDistance': 110.38, 'SeismicIntensity': '1級', 'StationLatitude': 23.669, 'StationLongitude': 121.428, 'WaveImageURI': 'https://scweb.cwa.gov.tw/webdata/drawTrace/outcome/2025/2025067/1-EGFH.gif'}, {'pga': {'unit': 'gal', 'EWComponent': 0.79, 'NSComponent': 0.67, 'VComponent': 0.52, 'IntScaleValue': 0.82}, 'pgv': {'unit': 'kine', 'EWComponent': 0.07, 'NSComponent': 0.05, 'VComponent': 0.03, 'IntScaleValue': 0.07}, 'StationName': '鹽寮', 'StationID': 'EYL', 'InfoStatus': 'observe', 'BackAzimuth': 233.23, 'EpicenterDistance': 139.67, 'SeismicIntensity': '1級', 'StationLatitude': 23.904, 'StationLongitude': 121.602, 'WaveImageURI': 'https://scweb.cwa.gov.tw/webdata/drawTrace/outcome/2025/2025067/1-EYL.gif'}, {'pga': {'unit': 'gal', 'EWComponent': 1.43, 'NSComponent': 1.08, 'VComponent': 0.34, 'IntScaleValue': 1.46}, 'pgv': {'unit': 'kine', 'EWComponent': 0.1, 'NSComponent': 0.09, 'VComponent': 0.04, 'IntScaleValue': 0.11}, 'StationName': '花蓮市', 'StationID': 'HWA', 'InfoStatus': 'observe', 'BackAzimuth': 231.0, 'EpicenterDistance': 145.5, 'SeismicIntensity': '1級', 'StationLatitude': 23.975, 'StationLongitude': 121.614, 'WaveImageURI': 'https://scweb.cwa.gov.tw/webdata/drawTrace/outcome/2025/2025067/1-HWA.gif'}]}, {'AreaDesc': '苗栗縣地區', 'CountyName': '苗栗縣', 'InfoStatus': 'observe', 'AreaIntensity': '1級', 'EqStation': [{'pga': {'unit': 'gal', 'EWComponent': 2.17, 'NSComponent': 1.67, 'VComponent': 1.15, 'IntScaleValue': 2.39}, 'pgv': {'unit': 'kine', 'EWComponent': 0.14, 'NSComponent': 0.08, 'VComponent': 0.06, 'IntScaleValue': 0.14}, 'StationName': '鯉魚潭', 'StationID': 'TWQ1', 'InfoStatus': 'observe', 'BackAzimuth': 191.92, 'EpicenterDistance': 135.69, 'SeismicIntensity': '1級', 'StationLatitude': 24.347, 'StationLongitude': 120.781, 'WaveImageURI': 'https://scweb.cwa.gov.tw/webdata/drawTrace/outcome/2025/2025067/1-TWQ1.gif'}, {'pga': {'unit': 'gal', 'EWComponent': 1.27, 'NSComponent': 1.68, 'VComponent': 0.63, 'IntScaleValue': 1.58}, 'pgv': {'unit': 'kine', 'EWComponent': 0.08, 'NSComponent': 0.1, 'VComponent': 0.04, 'IntScaleValue': 0.1}, 'StationName': '三義', 'StationID': 'NSY', 'InfoStatus': 'observe', 'BackAzimuth': 190.84, 'EpicenterDistance': 142.85, 'SeismicIntensity': '1級', 'StationLatitude': 24.414, 'StationLongitude': 120.77, 'WaveImageURI': 'https://scweb.cwa.gov.tw/webdata/drawTrace/outcome/2025/2025067/1-NSY.gif'}, {'pga': {'unit': 'gal', 'EWComponent': 1.05, 'NSComponent': 0.94, 'VComponent': 0.46, 'IntScaleValue': 1.12}, 'pgv': {'unit': 'kine', 'EWComponent': 0.05, 'NSComponent': 0.08, 'VComponent': 0.04, 'IntScaleValue': 0.09}, 'StationName': '泰安', 'StationID': 'H176', 'InfoStatus': 'observe', 'BackAzimuth': 196.88, 'EpicenterDistance': 152.52, 'SeismicIntensity': '1級', 'StationLatitude': 24.465, 'StationLongitude': 120.941, 'WaveImageURI': 'https://scweb.cwa.gov.tw/webdata/drawTrace/outcome/2025/2025067/1-H176.gif'}, {'pga': {'unit': 'gal', 'EWComponent': 1.17, 'NSComponent': 1.08, 'VComponent': 0.55, 'IntScaleValue': 1.19}, 'pgv': {'unit': 'kine', 'EWComponent': 0.08, 'NSComponent': 0.06, 'VComponent': 0.03, 'IntScaleValue': 0.08}, 'StationName': '苗栗市', 'StationID': 'NML', 'InfoStatus': 'observe', 'BackAzimuth': 191.72, 'EpicenterDistance': 160.35, 'SeismicIntensity': '1級', 'StationLatitude': 24.565, 'StationLongitude': 120.826, 'WaveImageURI': 'https://scweb.cwa.gov.tw/webdata/drawTrace/outcome/2025/2025067/1-NML.gif'}, {'pga': {'unit': 'gal', 'EWComponent': 1.2, 'NSComponent': 1.39, 'VComponent': 0.58, 'IntScaleValue': 1.48}, 'pgv': {'unit': 'kine', 'EWComponent': 0.05, 'NSComponent': 0.05, 'VComponent': 0.02, 'IntScaleValue': 0.06}, 'StationName': '竹南', 'StationID': 'NJN', 'InfoStatus': 'observe', 'BackAzimuth': 192.29, 'EpicenterDistance': 174.17, 'SeismicIntensity': '1級', 'StationLatitude': 24.684, 'StationLongitude': 120.87, 'WaveImageURI': 'https://scweb.cwa.gov.tw/webdata/drawTrace/outcome/2025/2025067/1-NJN.gif'}]}, {'AreaDesc': '臺東縣地區', 'CountyName': '臺東縣', 'InfoStatus': 'observe', 'AreaIntensity': '2級', 'EqStation': [{'pga': {'unit': 'gal', 'EWComponent': 2.05, 'NSComponent': 2.09, 'VComponent': 2.33, 'IntScaleValue': 2.58}, 'pgv': {'unit': 'kine', 'EWComponent': 0.06, 'NSComponent': 0.06, 'VComponent': 0.06, 'IntScaleValue': 0.08}, 'StationName': '利稻', 'StationID': 'ELD', 'InfoStatus': 'observe', 'BackAzimuth': 265.55, 'EpicenterDistance': 53.31, 'SeismicIntensity': '2級', 'StationLatitude': 23.187, 'StationLongitude': 121.025, 'WaveImageURI': 'https://scweb.cwa.gov.tw/webdata/drawTrace/outcome/2025/2025067/2-ELD.gif'}, {'pga': {'unit': 'gal', 'EWComponent': 1.05, 'NSComponent': 0.71, 'VComponent': 0.68, 'IntScaleValue': 1.12}, 'pgv': {'unit': 'kine', 'EWComponent': 0.07, 'NSComponent': 0.05, 'VComponent': 0.03, 'IntScaleValue': 0.07}, 'StationName': '卑南', 'StationID': 'TWG', 'InfoStatus': 'observe', 'BackAzimuth': 302.07, 'EpicenterDistance': 69.45, 'SeismicIntensity': '1級', 'StationLatitude': 22.817, 'StationLongitude': 121.08, 'WaveImageURI': 'https://scweb.cwa.gov.tw/webdata/drawTrace/outcome/2025/2025067/1-TWG.gif'}, {'pga': {'unit': 'gal', 'EWComponent': 1.22, 'NSComponent': 1.24, 'VComponent': 1.0, 'IntScaleValue': 1.31}, 'pgv': {'unit': 'kine', 'EWComponent': 0.07, 'NSComponent': 0.07, 'VComponent': 0.07, 'IntScaleValue': 0.09}, 'StationName': '鹿野', 'StationID': 'LONT', 'InfoStatus': 'observe', 'BackAzimuth': 292.89, 'EpicenterDistance': 69.47, 'SeismicIntensity': '1級', 'StationLatitude': 22.906, 'StationLongitude': 121.131, 'WaveImageURI': 'https://scweb.cwa.gov.tw/webdata/drawTrace/outcome/2025/2025067/1-LONT.gif'}, {'pga': {'unit': 'gal', 'EWComponent': 2.0, 'NSComponent': 1.8, 'VComponent': 1.34, 'IntScaleValue': 2.07}, 'pgv': {'unit': 'kine', 'EWComponent': 0.07, 'NSComponent': 0.06, 'VComponent': 0.04, 'IntScaleValue': 0.07}, 'StationName': '海端', 'StationID': 'EHD', 'InfoStatus': 'observe', 'BackAzimuth': 270.09, 'EpicenterDistance': 71.69, 'SeismicIntensity': '1級', 'StationLatitude': 23.149, 'StationLongitude': 121.206, 'WaveImageURI': 'https://scweb.cwa.gov.tw/webdata/drawTrace/outcome/2025/2025067/1-EHD.gif'}, {'pga': {'unit': 'gal', 'EWComponent': 2.32, 'NSComponent': 1.77, 'VComponent': 1.33, 'IntScaleValue': 2.34}, 'pgv': {'unit': 'kine', 'EWComponent': 0.07, 'NSComponent': 0.08, 'VComponent': 0.06, 'IntScaleValue': 0.09}, 'StationName': '池上', 'StationID': 'ECS', 'InfoStatus': 'observe', 'BackAzimuth': 274.74, 'EpicenterDistance': 73.29, 'SeismicIntensity': '1級', 'StationLatitude': 23.095, 'StationLongitude': 121.219, 'WaveImageURI': 'https://scweb.cwa.gov.tw/webdata/drawTrace/outcome/2025/2025067/1-ECS.gif'}, {'pga': {'unit': 'gal', 'EWComponent': 1.02, 'NSComponent': 0.68, 'VComponent': 0.92, 'IntScaleValue': 1.08}, 'pgv': {'unit': 'kine', 'EWComponent': 0.04, 'NSComponent': 0.03, 'VComponent': 0.03, 'IntScaleValue': 0.04}, 'StationName': '太麻里', 'StationID': 'ECL', 'InfoStatus': 'observe', 'BackAzimuth': 322.74, 'EpicenterDistance': 77.23, 'SeismicIntensity': '1級', 'StationLatitude': 22.596, 'StationLongitude': 120.962, 'WaveImageURI': 'https://scweb.cwa.gov.tw/webdata/drawTrace/outcome/2025/2025067/1-ECL.gif'}, {'pga': {'unit': 'gal', 'EWComponent': 1.53, 'NSComponent': 1.37, 'VComponent': 1.03, 'IntScaleValue': 1.82}, 'pgv': {'unit': 'kine', 'EWComponent': 0.09, 'NSComponent': 0.08, 'VComponent': 0.05, 'IntScaleValue': 0.11}, 'StationName': '東河', 'StationID': 'EDH', 'InfoStatus': 'observe', 'BackAzimuth': 283.53, 'EpicenterDistance': 84.09, 'SeismicIntensity': '1級', 'StationLatitude': 22.973, 'StationLongitude': 121.304, 'WaveImageURI': 'https://scweb.cwa.gov.tw/webdata/drawTrace/outcome/2025/2025067/1-EDH.gif'}, {'pga': {'unit': 'gal', 'EWComponent': 1.68, 'NSComponent': 1.23, 'VComponent': 0.56, 'IntScaleValue': 1.66}, 'pgv': {'unit': 'kine', 'EWComponent': 0.06, 'NSComponent': 0.07, 'VComponent': 0.04, 'IntScaleValue': 0.07}, 'StationName': '成功', 'StationID': 'CHK', 'InfoStatus': 'observe', 'BackAzimuth': 273.72, 'EpicenterDistance': 88.99, 'SeismicIntensity': '1級', 'StationLatitude': 23.098, 'StationLongitude': 121.373, 'WaveImageURI': 'https://scweb.cwa.gov.tw/webdata/drawTrace/outcome/2025/2025067/1-CHK.gif'}, {'pga': {'unit': 'gal', 'EWComponent': 0.79, 'NSComponent': 0.55, 'VComponent': 0.51, 'IntScaleValue': 0.84}, 'pgv': {'unit': 'kine', 'EWComponent': 0.04, 'NSComponent': 0.04, 'VComponent': 0.02, 'IntScaleValue': 0.04}, 'StationName': '達仁', 'StationID': 'EAS', 'InfoStatus': 'observe', 'BackAzimuth': 337.1, 'EpicenterDistance': 92.46, 'SeismicIntensity': '1級', 'StationLatitude': 22.382, 'StationLongitude': 120.856, 'WaveImageURI': 'https://scweb.cwa.gov.tw/webdata/drawTrace/outcome/2025/2025067/1-EAS.gif'}, {'pga': {'unit': 'gal', 'EWComponent': 1.67, 'NSComponent': 1.04, 'VComponent': 0.53, 'IntScaleValue': 1.9}, 'pgv': {'unit': 'kine', 'EWComponent': 0.19, 'NSComponent': 0.08, 'VComponent': 0.03, 'IntScaleValue': 0.2}, 'StationName': '長濱', 'StationID': 'ECB', 'InfoStatus': 'observe', 'BackAzimuth': 259.18, 'EpicenterDistance': 98.47, 'SeismicIntensity': '1級', 'StationLatitude': 23.316, 'StationLongitude': 121.451, 'WaveImageURI': 'https://scweb.cwa.gov.tw/webdata/drawTrace/outcome/2025/2025067/1-ECB.gif'}]}, {'AreaDesc': '澎湖縣地區', 'CountyName': '澎湖縣', 'InfoStatus': 'observe', 'AreaIntensity': '2級', 'EqStation': [{'pga': {'unit': 'gal', 'EWComponent': 4.32, 'NSComponent': 4.11, 'VComponent': 1.43, 'IntScaleValue': 3.86}, 'pgv': {'unit': 'kine', 'EWComponent': 0.12, 'NSComponent': 0.1, 'VComponent': 0.05, 'IntScaleValue': 0.13}, 'StationName': '馬公市', 'StationID': 'PNG', 'InfoStatus': 'observe', 'BackAzimuth': 115.56, 'EpicenterDistance': 106.83, 'SeismicIntensity': '2級', 'StationLatitude': 23.565, 'StationLongitude': 119.563, 'WaveImageURI': 'https://scweb.cwa.gov.tw/webdata/drawTrace/outcome/2025/2025067/2-PNG.gif'}, {'pga': {'unit': 'gal', 'EWComponent': 1.12, 'NSComponent': 1.1, 'VComponent': 1.09, 'IntScaleValue': 1.32}, 'pgv': {'unit': 'kine', 'EWComponent': 0.15, 'NSComponent': 0.05, 'VComponent': 0.06, 'IntScaleValue': 0.15}, 'StationName': '東吉島', 'StationID': 'WDG', 'InfoStatus': 'observe', 'BackAzimuth': 97.91, 'EpicenterDistance': 86.65, 'SeismicIntensity': '1級', 'StationLatitude': 23.257, 'StationLongitude': 119.668, 'WaveImageURI': 'https://scweb.cwa.gov.tw/webdata/drawTrace/outcome/2025/2025067/1-WDG.gif'}]}, {'AreaDesc': '最大震度3級地區', 'CountyName': '嘉義市、雲林縣、彰化縣、臺中市', 'AreaIntensity': '3級', 'EqStation': []}, {'AreaDesc': '彰化縣地區', 'CountyName': '彰化縣', 'InfoStatus': 'observe', 'AreaIntensity': '3級', 'EqStation': [{'pga': {'unit': 'gal', 'EWComponent': 11.37, 'NSComponent': 11.01, 'VComponent': 9.82, 'IntScaleValue': 13.01}, 'pgv': {'unit': 'kine', 'EWComponent': 0.34, 'NSComponent': 0.32, 'VComponent': 0.24, 'IntScaleValue': 0.37}, 'StationName': '二林', 'StationID': 'WRL', 'InfoStatus': 'observe', 'BackAzimuth': 171.11, 'EpicenterDistance': 84.53, 'SeismicIntensity': '3級', 'StationLatitude': 23.903, 'StationLongitude': 120.378, 'WaveImageURI': 'https://scweb.cwa.gov.tw/webdata/drawTrace/outcome/2025/2025067/3-WRL.gif'}, {'pga': {'unit': 'gal', 'EWComponent': 15.93, 'NSComponent': 9.74, 'VComponent': 6.89, 'IntScaleValue': 14.77}, 'pgv': {'unit': 'kine', 'EWComponent': 0.31, 'NSComponent': 0.21, 'VComponent': 0.14, 'IntScaleValue': 0.35}, 'StationName': '彰化市', 'StationID': 'WCHH', 'InfoStatus': 'observe', 'BackAzimuth': 182.96, 'EpicenterDistance': 103.27, 'SeismicIntensity': '3級', 'StationLatitude': 24.079, 'StationLongitude': 120.558, 'WaveImageURI': 'https://scweb.cwa.gov.tw/webdata/drawTrace/outcome/2025/2025067/3-WCHH.gif'}, {'pga': {'unit': 'gal', 'EWComponent': 6.24, 'NSComponent': 8.07, 'VComponent': 3.26, 'IntScaleValue': 7.9}, 'pgv': {'unit': 'kine', 'EWComponent': 0.32, 'NSComponent': 0.33, 'VComponent': 0.09, 'IntScaleValue': 0.35}, 'StationName': '大城', 'StationID': 'WTC', 'InfoStatus': 'observe', 'BackAzimuth': 164.34, 'EpicenterDistance': 82.02, 'SeismicIntensity': '2級', 'StationLatitude': 23.862, 'StationLongitude': 120.289, 'WaveImageURI': 'https://scweb.cwa.gov.tw/webdata/drawTrace/outcome/2025/2025067/2-WTC.gif'}, {'pga': {'unit': 'gal', 'EWComponent': 4.25, 'NSComponent': 3.82, 'VComponent': 3.23, 'IntScaleValue': 4.42}, 'pgv': {'unit': 'kine', 'EWComponent': 0.12, 'NSComponent': 0.12, 'VComponent': 0.1, 'IntScaleValue': 0.13}, 'StationName': '員林', 'StationID': 'WYL', 'InfoStatus': 'observe', 'BackAzimuth': 184.8, 'EpicenterDistance': 90.25, 'SeismicIntensity': '2級', 'StationLatitude': 23.961, 'StationLongitude': 120.58, 'WaveImageURI': 'https://scweb.cwa.gov.tw/webdata/drawTrace/outcome/2025/2025067/2-WYL.gif'}, {'pga': {'unit': 'gal', 'EWComponent': 5.03, 'NSComponent': 5.35, 'VComponent': 2.89, 'IntScaleValue': 5.9}, 'pgv': {'unit': 'kine', 'EWComponent': 0.15, 'NSComponent': 0.15, 'VComponent': 0.07, 'IntScaleValue': 0.18}, 'StationName': '鹿港', 'StationID': 'B112', 'InfoStatus': 'observe', 'BackAzimuth': 175.6, 'EpicenterDistance': 100.74, 'SeismicIntensity': '2級', 'StationLatitude': 24.055, 'StationLongitude': 120.43, 'WaveImageURI': 'https://scweb.cwa.gov.tw/webdata/drawTrace/outcome/2025/2025067/2-B112.gif'}]}, {'AreaDesc': '臺中市地區', 'CountyName': '臺中市', 'InfoStatus': 'observe', 'AreaIntensity': '3級', 'EqStation': [{'pga': {'unit': 'gal', 'EWComponent': 6.42, 'NSComponent': 6.52, 'VComponent': 2.73, 'IntScaleValue': 8.33}, 'pgv': {'unit': 'kine', 'EWComponent': 0.17, 'NSComponent': 0.17, 'VComponent': 0.09, 'IntScaleValue': 0.23}, 'StationName': '霧峰', 'StationID': 'B219', 'InfoStatus': 'observe', 'BackAzimuth': 191.28, 'EpicenterDistance': 100.93, 'SeismicIntensity': '3級', 'StationLatitude': 24.042, 'StationLongitude': 120.7, 'WaveImageURI': 'https://scweb.cwa.gov.tw/webdata/drawTrace/outcome/2025/2025067/3-B219.gif'}, {'pga': {'unit': 'gal', 'EWComponent': 6.49, 'NSComponent': 5.66, 'VComponent': 2.7, 'IntScaleValue': 6.12}, 'pgv': {'unit': 'kine', 'EWComponent': 0.22, 'NSComponent': 0.21, 'VComponent': 0.09, 'IntScaleValue': 0.24}, 'StationName': '梧棲', 'StationID': 'WWC', 'InfoStatus': 'observe', 'BackAzimuth': 180.83, 'EpicenterDistance': 122.81, 'SeismicIntensity': '2級', 'StationLatitude': 24.257, 'StationLongitude': 120.523, 'WaveImageURI': 'https://scweb.cwa.gov.tw/webdata/drawTrace/outcome/2025/2025067/2-WWC.gif'}, {'pga': {'unit': 'gal', 'EWComponent': 2.11, 'NSComponent': 1.87, 'VComponent': 1.41, 'IntScaleValue': 1.93}, 'pgv': {'unit': 'kine', 'EWComponent': 0.06, 'NSComponent': 0.05, 'VComponent': 0.04, 'IntScaleValue': 0.06}, 'StationName': '臺中市', 'StationID': 'TCU', 'InfoStatus': 'observe', 'BackAzimuth': 189.34, 'EpicenterDistance': 111.96, 'SeismicIntensity': '1級', 'StationLatitude': 24.146, 'StationLongitude': 120.684, 'WaveImageURI': 'https://scweb.cwa.gov.tw/webdata/drawTrace/outcome/2025/2025067/1-TCU.gif'}, {'pga': {'unit': 'gal', 'EWComponent': 1.17, 'NSComponent': 1.11, 'VComponent': 0.65, 'IntScaleValue': 1.28}, 'pgv': {'unit': 'kine', 'EWComponent': 0.07, 'NSComponent': 0.07, 'VComponent': 0.04, 'IntScaleValue': 0.09}, 'StationName': '烏石坑', 'StationID': 'WHP', 'InfoStatus': 'observe', 'BackAzimuth': 199.72, 'EpicenterDistance': 132.93, 'SeismicIntensity': '1級', 'StationLatitude': 24.278, 'StationLongitude': 120.946, 'WaveImageURI': 'https://scweb.cwa.gov.tw/webdata/drawTrace/outcome/2025/2025067/1-WHP.gif'}, {'pga': {'unit': 'gal', 'EWComponent': 1.83, 'NSComponent': 1.61, 'VComponent': 0.61, 'IntScaleValue': 1.96}, 'pgv': {'unit': 'kine', 'EWComponent': 0.08, 'NSComponent': 0.15, 'VComponent': 0.05, 'IntScaleValue': 0.15}, 'StationName': '大甲', 'StationID': 'WDJ', 'InfoStatus': 'observe', 'BackAzimuth': 185.89, 'EpicenterDistance': 133.61, 'SeismicIntensity': '1級', 'StationLatitude': 24.348, 'StationLongitude': 120.64, 'WaveImageURI': 'https://scweb.cwa.gov.tw/webdata/drawTrace/outcome/2025/2025067/1-WDJ.gif'}, {'pga': {'unit': 'gal', 'EWComponent': 1.16, 'NSComponent': 1.81, 'VComponent': 0.5, 'IntScaleValue': 1.76}, 'pgv': {'unit': 'kine', 'EWComponent': 0.06, 'NSComponent': 0.11, 'VComponent': 0.03, 'IntScaleValue': 0.11}, 'StationName': '德基', 'StationID': 'TWT', 'InfoStatus': 'observe', 'BackAzimuth': 208.73, 'EpicenterDistance': 139.13, 'SeismicIntensity': '1級', 'StationLatitude': 24.25, 'StationLongitude': 121.162, 'WaveImageURI': 'https://scweb.cwa.gov.tw/webdata/drawTrace/outcome/2025/2025067/1-TWT.gif'}, {'pga': {'unit': 'gal', 'EWComponent': 0.83, 'NSComponent': 0.71, 'VComponent': 0.42, 'IntScaleValue': 0.89}, 'pgv': {'unit': 'kine', 'EWComponent': 0.06, 'NSComponent': 0.06, 'VComponent': 0.03, 'IntScaleValue': 0.07}, 'StationName': '梨山', 'StationID': 'FUSS', 'InfoStatus': 'observe', 'BackAzimuth': 211.7, 'EpicenterDistance': 143.14, 'SeismicIntensity': '1級', 'StationLatitude': 24.248, 'StationLongitude': 121.244, 'WaveImageURI': 'https://scweb.cwa.gov.tw/webdata/drawTrace/outcome/2025/2025067/1-FUSS.gif'}]}, {'AreaDesc': '嘉義縣地區', 'CountyName': '嘉義縣', 'InfoStatus': 'observe', 'AreaIntensity': '4級', 'EqStation': [{'pga': {'unit': 'gal', 'EWComponent': 106.84, 'NSComponent': 35.66, 'VComponent': 10.52, 'IntScaleValue': 98.9}, 'pgv': {'unit': 'kine', 'EWComponent': 2.43, 'NSComponent': 0.95, 'VComponent': 0.38, 'IntScaleValue': 2.48}, 'StationName': '大埔', 'StationID': 'WTP', 'InfoStatus': 'observe', 'BackAzimuth': 228.79, 'EpicenterDistance': 15.82, 'SeismicIntensity': '4級', 'StationLatitude': 23.244, 'StationLongitude': 120.622, 'WaveImageURI': 'https://scweb.cwa.gov.tw/webdata/drawTrace/outcome/2025/2025067/4-WTP.gif'}, {'pga': {'unit': 'gal', 'EWComponent': 22.6, 'NSComponent': 30.0, 'VComponent': 10.61, 'IntScaleValue': 30.11}, 'pgv': {'unit': 'kine', 'EWComponent': 0.92, 'NSComponent': 1.16, 'VComponent': 0.36, 'IntScaleValue': 1.17}, 'StationName': '番路', 'StationID': 'WCKO', 'InfoStatus': 'observe', 'BackAzimuth': 197.5, 'EpicenterDistance': 33.58, 'SeismicIntensity': '4級', 'StationLatitude': 23.439, 'StationLongitude': 120.605, 'WaveImageURI': 'https://scweb.cwa.gov.tw/webdata/drawTrace/outcome/2025/2025067/4-WCKO.gif'}, {'pga': {'unit': 'gal', 'EWComponent': 21.6, 'NSComponent': 17.67, 'VComponent': 10.59, 'IntScaleValue': 21.55}, 'pgv': {'unit': 'kine', 'EWComponent': 0.58, 'NSComponent': 0.69, 'VComponent': 0.22, 'IntScaleValue': 0.74}, 'StationName': '義竹', 'StationID': 'CHN8', 'InfoStatus': 'observe', 'BackAzimuth': 127.08, 'EpicenterDistance': 36.33, 'SeismicIntensity': '3級', 'StationLatitude': 23.347, 'StationLongitude': 120.223, 'WaveImageURI': 'https://scweb.cwa.gov.tw/webdata/drawTrace/outcome/2025/2025067/3-CHN8.gif'}, {'pga': {'unit': 'gal', 'EWComponent': 21.61, 'NSComponent': 11.16, 'VComponent': 6.94, 'IntScaleValue': 19.67}, 'pgv': {'unit': 'kine', 'EWComponent': 0.61, 'NSComponent': 0.31, 'VComponent': 0.21, 'IntScaleValue': 0.62}, 'StationName': '太保市', 'StationID': 'CHY1', 'InfoStatus': 'observe', 'BackAzimuth': 147.52, 'EpicenterDistance': 40.4, 'SeismicIntensity': '3級', 'StationLatitude': 23.457, 'StationLongitude': 120.294, 'WaveImageURI': 'https://scweb.cwa.gov.tw/webdata/drawTrace/outcome/2025/2025067/3-CHY1.gif'}, {'pga': {'unit': 'gal', 'EWComponent': 11.25, 'NSComponent': 13.28, 'VComponent': 9.41, 'IntScaleValue': 11.17}, 'pgv': {'unit': 'kine', 'EWComponent': 0.42, 'NSComponent': 0.53, 'VComponent': 0.19, 'IntScaleValue': 0.53}, 'StationName': '民雄', 'StationID': 'CHN2', 'InfoStatus': 'observe', 'BackAzimuth': 175.64, 'EpicenterDistance': 42.51, 'SeismicIntensity': '3級', 'StationLatitude': 23.532, 'StationLongitude': 120.474, 'WaveImageURI': 'https://scweb.cwa.gov.tw/webdata/drawTrace/outcome/2025/2025067/3-CHN2.gif'}, {'pga': {'unit': 'gal', 'EWComponent': 6.02, 'NSComponent': 7.15, 'VComponent': 2.95, 'IntScaleValue': 6.21}, 'pgv': {'unit': 'kine', 'EWComponent': 0.22, 'NSComponent': 0.24, 'VComponent': 0.09, 'IntScaleValue': 0.27}, 'StationName': '阿里山', 'StationID': 'ALS', 'InfoStatus': 'observe', 'BackAzimuth': 218.32, 'EpicenterDistance': 50.7, 'SeismicIntensity': '2級', 'StationLatitude': 23.508, 'StationLongitude': 120.813, 'WaveImageURI': 'https://scweb.cwa.gov.tw/webdata/drawTrace/outcome/2025/2025067/2-ALS.gif'}]}, {'AreaDesc': '最大震度4級地區', 'CountyName': '臺南市、高雄市、嘉義縣', 'AreaIntensity': '4級', 'EqStation': []}, {'AreaDesc': '屏東縣地區', 'CountyName': '屏東縣', 'InfoStatus': 'observe', 'AreaIntensity': '1級', 'EqStation': [{'pga': {'unit': 'gal', 'EWComponent': 1.81, 'NSComponent': 1.94, 'VComponent': 1.49, 'IntScaleValue': 2.18}, 'pgv': {'unit': 'kine', 'EWComponent': 0.08, 'NSComponent': 0.08, 'VComponent': 0.07, 'IntScaleValue': 0.11}, 'StationName': '三地門', 'StationID': 'SSD', 'InfoStatus': 'observe', 'BackAzimuth': 343.01, 'EpicenterDistance': 47.04, 'SeismicIntensity': '1級', 'StationLatitude': 22.744, 'StationLongitude': 120.64, 'WaveImageURI': 'https://scweb.cwa.gov.tw/webdata/drawTrace/outcome/2025/2025067/1-SSD.gif'}, {'pga': {'unit': 'gal', 'EWComponent': 1.4, 'NSComponent': 1.47, 'VComponent': 0.6, 'IntScaleValue': 1.54}, 'pgv': {'unit': 'kine', 'EWComponent': 0.13, 'NSComponent': 0.14, 'VComponent': 0.06, 'IntScaleValue': 0.16}, 'StationName': '九如', 'StationID': 'SGL', 'InfoStatus': 'observe', 'BackAzimuth': 0.91, 'EpicenterDistance': 47.31, 'SeismicIntensity': '1級', 'StationLatitude': 22.723, 'StationLongitude': 120.499, 'WaveImageURI': 'https://scweb.cwa.gov.tw/webdata/drawTrace/outcome/2025/2025067/1-SGL.gif'}, {'pga': {'unit': 'gal', 'EWComponent': 1.64, 'NSComponent': 1.9, 'VComponent': 0.88, 'IntScaleValue': 1.9}, 'pgv': {'unit': 'kine', 'EWComponent': 0.04, 'NSComponent': 0.06, 'VComponent': 0.03, 'IntScaleValue': 0.06}, 'StationName': '瑪家', 'StationID': 'SMG', 'InfoStatus': 'observe', 'BackAzimuth': 343.91, 'EpicenterDistance': 51.31, 'SeismicIntensity': '1級', 'StationLatitude': 22.705, 'StationLongitude': 120.645, 'WaveImageURI': 'https://scweb.cwa.gov.tw/webdata/drawTrace/outcome/2025/2025067/1-SMG.gif'}, {'pga': {'unit': 'gal', 'EWComponent': 1.45, 'NSComponent': 1.91, 'VComponent': 1.2, 'IntScaleValue': 1.92}, 'pgv': {'unit': 'kine', 'EWComponent': 0.13, 'NSComponent': 0.13, 'VComponent': 0.05, 'IntScaleValue': 0.13}, 'StationName': '屏東市', 'StationID': 'SPT', 'InfoStatus': 'observe', 'BackAzimuth': 1.11, 'EpicenterDistance': 52.49, 'SeismicIntensity': '1級', 'StationLatitude': 22.677, 'StationLongitude': 120.496, 'WaveImageURI': 'https://scweb.cwa.gov.tw/webdata/drawTrace/outcome/2025/2025067/1-SPT.gif'}, {'pga': {'unit': 'gal', 'EWComponent': 1.26, 'NSComponent': 0.84, 'VComponent': 0.42, 'IntScaleValue': 1.31}, 'pgv': {'unit': 'kine', 'EWComponent': 0.09, 'NSComponent': 0.06, 'VComponent': 0.03, 'IntScaleValue': 0.1}, 'StationName': '新埤', 'StationID': 'SSP', 'InfoStatus': 'observe', 'BackAzimuth': 355.07, 'EpicenterDistance': 74.19, 'SeismicIntensity': '1級', 'StationLatitude': 22.484, 'StationLongitude': 120.568, 'WaveImageURI': 'https://scweb.cwa.gov.tw/webdata/drawTrace/outcome/2025/2025067/1-SSP.gif'}, {'pga': {'unit': 'gal', 'EWComponent': 1.61, 'NSComponent': 2.0, 'VComponent': 0.94, 'IntScaleValue': 2.21}, 'pgv': {'unit': 'kine', 'EWComponent': 0.15, 'NSComponent': 0.15, 'VComponent': 0.04, 'IntScaleValue': 0.2}, 'StationName': '東港', 'StationID': 'D033', 'InfoStatus': 'observe', 'BackAzimuth': 3.5, 'EpicenterDistance': 76.42, 'SeismicIntensity': '1級', 'StationLatitude': 22.462, 'StationLongitude': 120.461, 'WaveImageURI': 'https://scweb.cwa.gov.tw/webdata/drawTrace/outcome/2025/2025067/1-D033.gif'}, {'pga': {'unit': 'gal', 'EWComponent': 0.74, 'NSComponent': 0.87, 'VComponent': 0.22, 'IntScaleValue': 0.88}, 'pgv': {'unit': 'kine', 'EWComponent': 0.04, 'NSComponent': 0.06, 'VComponent': 0.02, 'IntScaleValue': 0.06}, 'StationName': '小琉球', 'StationID': 'WLC', 'InfoStatus': 'observe', 'BackAzimuth': 8.97, 'EpicenterDistance': 90.19, 'SeismicIntensity': '1級', 'StationLatitude': 22.347, 'StationLongitude': 120.369, 'WaveImageURI': 'https://scweb.cwa.gov.tw/webdata/drawTrace/outcome/2025/2025067/1-WLC.gif'}, {'StationName': '南灣', 'StationID': 'SNW', 'BackAzimuth': 349.25, 'EpicenterDistance': 134.36, 'SeismicIntensity': '1級', 'StationLatitude': 21.96, 'StationLongitude': 120.75}]}, {'AreaDesc': '宜蘭縣地區', 'CountyName': '宜蘭縣', 'InfoStatus': 'observe', 'AreaIntensity': '1級', 'EqStation': [{'pga': {'unit': 'gal', 'EWComponent': 0.85, 'NSComponent': 0.87, 'VComponent': 0.26, 'IntScaleValue': 0.85}, 'pgv': {'unit': 'kine', 'EWComponent': 0.06, 'NSComponent': 0.05, 'VComponent': 0.02, 'IntScaleValue': 0.06}, 'StationName': '南山', 'StationID': 'NNS', 'InfoStatus': 'observe', 'BackAzimuth': 211.98, 'EpicenterDistance': 168.41, 'SeismicIntensity': '1級', 'StationLatitude': 24.437, 'StationLongitude': 121.381, 'WaveImageURI': 'https://scweb.cwa.gov.tw/webdata/drawTrace/outcome/2025/2025067/1-NNS.gif'}]}, {'AreaDesc': '嘉義市地區', 'CountyName': '嘉義市', 'InfoStatus': 'observe', 'AreaIntensity': '3級', 'EqStation': [{'pga': {'unit': 'gal', 'EWComponent': 14.32, 'NSComponent': 11.13, 'VComponent': 5.64, 'IntScaleValue': 14.04}, 'pgv': {'unit': 'kine', 'EWComponent': 0.5, 'NSComponent': 0.53, 'VComponent': 0.17, 'IntScaleValue': 0.59}, 'StationName': '嘉義市', 'StationID': 'CHY', 'InfoStatus': 'observe', 'BackAzimuth': 168.97, 'EpicenterDistance': 39.16, 'SeismicIntensity': '3級', 'StationLatitude': 23.496, 'StationLongitude': 120.433, 'WaveImageURI': 'https://scweb.cwa.gov.tw/webdata/drawTrace/outcome/2025/2025067/3-CHY.gif'}]}]}}]}}\n"
          ]
        }
      ]
    },
    {
      "cell_type": "markdown",
      "source": [
        "### 3. AI Agent\n",
        "\n",
        "Combine two tools and then we can search the information of weather or earthquake by Gemini.\n",
        "\n",
        "將兩個工具結合，然後我們可以透過 Gemini 搜尋天氣或地震資訊。\n"
      ],
      "metadata": {
        "id": "xkf_qiFQLwYA"
      }
    },
    {
      "cell_type": "code",
      "source": [
        "system_instruction = \"\"\"\n",
        "請使用繁體中文直接回覆使用者的問題，\n",
        "縣市清單：宜蘭縣, 花蓮縣, 臺東縣, 澎湖縣, 金門縣, 連江縣, 臺北市, 新北市, 桃園市, 臺中市, 臺南市, 高雄市, 基隆市, 新竹縣, 新竹市, 苗栗縣, 彰化縣, 南投縣, 雲林縣, 嘉義縣, 嘉義市, 屏東縣',\n",
        "能夠查詢的工具如下：最近天氣、近期地震。\n",
        "\"\"\""
      ],
      "metadata": {
        "id": "-aMRcHBrMRv1"
      },
      "execution_count": 24,
      "outputs": []
    },
    {
      "cell_type": "code",
      "source": [
        "response = client.models.generate_content(\n",
        "    model='gemini-1.5-flash-8b',\n",
        "    contents=\"臺北市今天會很冷嗎？\",\n",
        "    config=types.GenerateContentConfig(\n",
        "        tools=[get_current_weather, get_previous_earthquake],\n",
        "        system_instruction=system_instruction\n",
        "    )\n",
        ")\n",
        "\n",
        "print(response.text)"
      ],
      "metadata": {
        "colab": {
          "base_uri": "https://localhost:8080/"
        },
        "id": "v3gpP6OlLyC4",
        "outputId": "e07c8e0d-b978-49a4-9a63-00f0a86bb372"
      },
      "execution_count": 25,
      "outputs": [
        {
          "output_type": "stream",
          "name": "stdout",
          "text": [
            "根據預報，臺北市今天晚上到明天白天，氣溫舒適，沒有很冷。  最低溫度約 18 度，最高溫度約 29 度。  部分時間會有晴時多雲或多雲，但沒有預報到下雨。\n",
            "\n"
          ]
        }
      ]
    },
    {
      "cell_type": "code",
      "source": [
        "response = client.models.generate_content(\n",
        "    model='gemini-1.5-flash-8b',\n",
        "    contents=\"請告訴我最近花蓮有發生過地震嗎？\",\n",
        "    config=types.GenerateContentConfig(\n",
        "        tools=[get_current_weather, get_previous_earthquake],\n",
        "        system_instruction=system_instruction\n",
        "    )\n",
        ")\n",
        "\n",
        "print(response.text)"
      ],
      "metadata": {
        "colab": {
          "base_uri": "https://localhost:8080/"
        },
        "id": "WhHq6iB5L9HT",
        "outputId": "5a2f5d56-d869-402b-8830-9bf77667fc50"
      },
      "execution_count": 26,
      "outputs": [
        {
          "output_type": "stream",
          "name": "stdout",
          "text": [
            "是的，3月8日花蓮發生了規模4.1的有感地震，最大震度為4級。\n",
            "\n"
          ]
        }
      ]
    }
  ]
}